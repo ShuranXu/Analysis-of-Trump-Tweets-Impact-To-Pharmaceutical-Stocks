{
 "cells": [
  {
   "cell_type": "code",
   "execution_count": 3,
   "metadata": {},
   "outputs": [],
   "source": [
    "import numpy as np\n",
    "import pandas as pd\n",
    "import hvplot.pandas\n",
    "from pathlib import Path"
   ]
  },
  {
   "cell_type": "code",
   "execution_count": 108,
   "metadata": {},
   "outputs": [
    {
     "data": {
      "text/html": [
       "<div>\n",
       "<style scoped>\n",
       "    .dataframe tbody tr th:only-of-type {\n",
       "        vertical-align: middle;\n",
       "    }\n",
       "\n",
       "    .dataframe tbody tr th {\n",
       "        vertical-align: top;\n",
       "    }\n",
       "\n",
       "    .dataframe thead th {\n",
       "        text-align: right;\n",
       "    }\n",
       "</style>\n",
       "<table border=\"1\" class=\"dataframe\">\n",
       "  <thead>\n",
       "    <tr style=\"text-align: right;\">\n",
       "      <th></th>\n",
       "      <th>Attributes</th>\n",
       "      <th>Volume</th>\n",
       "      <th>Volume.1</th>\n",
       "      <th>Volume.2</th>\n",
       "      <th>Adj Close</th>\n",
       "      <th>Adj Close.1</th>\n",
       "      <th>Adj Close.2</th>\n",
       "    </tr>\n",
       "  </thead>\n",
       "  <tbody>\n",
       "    <tr>\n",
       "      <th>0</th>\n",
       "      <td>Symbols</td>\n",
       "      <td>GSK</td>\n",
       "      <td>PFE</td>\n",
       "      <td>AZN</td>\n",
       "      <td>GSK</td>\n",
       "      <td>PFE</td>\n",
       "      <td>AZN</td>\n",
       "    </tr>\n",
       "    <tr>\n",
       "      <th>2</th>\n",
       "      <td>1/2/2018</td>\n",
       "      <td>9465500</td>\n",
       "      <td>16185800</td>\n",
       "      <td>6107400</td>\n",
       "      <td>32.10053253</td>\n",
       "      <td>32.92734146</td>\n",
       "      <td>31.99385643</td>\n",
       "    </tr>\n",
       "    <tr>\n",
       "      <th>3</th>\n",
       "      <td>1/3/2018</td>\n",
       "      <td>6600800</td>\n",
       "      <td>13456500</td>\n",
       "      <td>4195400</td>\n",
       "      <td>31.97884941</td>\n",
       "      <td>33.1713028</td>\n",
       "      <td>32.05715179</td>\n",
       "    </tr>\n",
       "    <tr>\n",
       "      <th>4</th>\n",
       "      <td>1/4/2018</td>\n",
       "      <td>5206400</td>\n",
       "      <td>12378100</td>\n",
       "      <td>3870900</td>\n",
       "      <td>32.03968811</td>\n",
       "      <td>33.24359894</td>\n",
       "      <td>32.1023674</td>\n",
       "    </tr>\n",
       "    <tr>\n",
       "      <th>5</th>\n",
       "      <td>1/5/2018</td>\n",
       "      <td>7250700</td>\n",
       "      <td>12492900</td>\n",
       "      <td>3336000</td>\n",
       "      <td>32.60468292</td>\n",
       "      <td>33.30685043</td>\n",
       "      <td>32.43695831</td>\n",
       "    </tr>\n",
       "  </tbody>\n",
       "</table>\n",
       "</div>"
      ],
      "text/plain": [
       "  Attributes   Volume  Volume.1 Volume.2    Adj Close  Adj Close.1  \\\n",
       "0    Symbols      GSK       PFE      AZN          GSK          PFE   \n",
       "2   1/2/2018  9465500  16185800  6107400  32.10053253  32.92734146   \n",
       "3   1/3/2018  6600800  13456500  4195400  31.97884941   33.1713028   \n",
       "4   1/4/2018  5206400  12378100  3870900  32.03968811  33.24359894   \n",
       "5   1/5/2018  7250700  12492900  3336000  32.60468292  33.30685043   \n",
       "\n",
       "   Adj Close.2  \n",
       "0          AZN  \n",
       "2  31.99385643  \n",
       "3  32.05715179  \n",
       "4   32.1023674  \n",
       "5  32.43695831  "
      ]
     },
     "execution_count": 108,
     "metadata": {},
     "output_type": "execute_result"
    }
   ],
   "source": [
    "# Load the closing prices \n",
    "file_path = Path('Data/df.csv')\n",
    "df = pd.read_csv(file_path)\n",
    "df = df.drop([1])\n",
    "df.head()"
   ]
  },
  {
   "cell_type": "code",
   "execution_count": 109,
   "metadata": {},
   "outputs": [],
   "source": [
    "def construct_df(df, volume, adj_close):\n",
    "    r_df = pd.DataFrame({\"Volume\": df[volume], \"Adj Close\": df[adj_close], \n",
    "                      \"Date\": df[\"Attributes\"]})\n",
    "    r_df.drop([0], inplace=True)\n",
    "    r_df[\"Date\"] = pd.to_datetime(r_df[\"Date\"])\n",
    "    r_df.drop(r_df.loc[r_df[\"Date\"] <'2020-01-01'].index, inplace=True)\n",
    "    r_df = r_df.set_index(\"Date\")\n",
    "    return r_df\n",
    "    "
   ]
  },
  {
   "cell_type": "code",
   "execution_count": 110,
   "metadata": {},
   "outputs": [
    {
     "data": {
      "text/html": [
       "<div>\n",
       "<style scoped>\n",
       "    .dataframe tbody tr th:only-of-type {\n",
       "        vertical-align: middle;\n",
       "    }\n",
       "\n",
       "    .dataframe tbody tr th {\n",
       "        vertical-align: top;\n",
       "    }\n",
       "\n",
       "    .dataframe thead th {\n",
       "        text-align: right;\n",
       "    }\n",
       "</style>\n",
       "<table border=\"1\" class=\"dataframe\">\n",
       "  <thead>\n",
       "    <tr style=\"text-align: right;\">\n",
       "      <th></th>\n",
       "      <th>Volume</th>\n",
       "      <th>Adj Close</th>\n",
       "    </tr>\n",
       "    <tr>\n",
       "      <th>Date</th>\n",
       "      <th></th>\n",
       "      <th></th>\n",
       "    </tr>\n",
       "  </thead>\n",
       "  <tbody>\n",
       "    <tr>\n",
       "      <th>2020-01-02</th>\n",
       "      <td>2462400</td>\n",
       "      <td>45.22977448</td>\n",
       "    </tr>\n",
       "    <tr>\n",
       "      <th>2020-01-03</th>\n",
       "      <td>2149100</td>\n",
       "      <td>44.80562592</td>\n",
       "    </tr>\n",
       "    <tr>\n",
       "      <th>2020-01-06</th>\n",
       "      <td>2034500</td>\n",
       "      <td>44.82490158</td>\n",
       "    </tr>\n",
       "    <tr>\n",
       "      <th>2020-01-07</th>\n",
       "      <td>1718900</td>\n",
       "      <td>44.54534912</td>\n",
       "    </tr>\n",
       "    <tr>\n",
       "      <th>2020-01-08</th>\n",
       "      <td>1766700</td>\n",
       "      <td>44.73814774</td>\n",
       "    </tr>\n",
       "  </tbody>\n",
       "</table>\n",
       "</div>"
      ],
      "text/plain": [
       "             Volume    Adj Close\n",
       "Date                            \n",
       "2020-01-02  2462400  45.22977448\n",
       "2020-01-03  2149100  44.80562592\n",
       "2020-01-06  2034500  44.82490158\n",
       "2020-01-07  1718900  44.54534912\n",
       "2020-01-08  1766700  44.73814774"
      ]
     },
     "execution_count": 110,
     "metadata": {},
     "output_type": "execute_result"
    }
   ],
   "source": [
    "# extract data for GSk and create a dataframe for GSk\n",
    "gsk_df = construct_df(df, \"Volume\",\"Adj Close\")\n",
    "gsk_df.head()"
   ]
  },
  {
   "cell_type": "code",
   "execution_count": 111,
   "metadata": {},
   "outputs": [
    {
     "data": {
      "text/html": [
       "<div>\n",
       "<style scoped>\n",
       "    .dataframe tbody tr th:only-of-type {\n",
       "        vertical-align: middle;\n",
       "    }\n",
       "\n",
       "    .dataframe tbody tr th {\n",
       "        vertical-align: top;\n",
       "    }\n",
       "\n",
       "    .dataframe thead th {\n",
       "        text-align: right;\n",
       "    }\n",
       "</style>\n",
       "<table border=\"1\" class=\"dataframe\">\n",
       "  <thead>\n",
       "    <tr style=\"text-align: right;\">\n",
       "      <th></th>\n",
       "      <th>Volume</th>\n",
       "      <th>Adj Close</th>\n",
       "    </tr>\n",
       "    <tr>\n",
       "      <th>Date</th>\n",
       "      <th></th>\n",
       "      <th></th>\n",
       "    </tr>\n",
       "  </thead>\n",
       "  <tbody>\n",
       "    <tr>\n",
       "      <th>2020-01-02</th>\n",
       "      <td>15668000</td>\n",
       "      <td>37.99060822</td>\n",
       "    </tr>\n",
       "    <tr>\n",
       "      <th>2020-01-03</th>\n",
       "      <td>14158300</td>\n",
       "      <td>37.78677368</td>\n",
       "    </tr>\n",
       "    <tr>\n",
       "      <th>2020-01-06</th>\n",
       "      <td>14963900</td>\n",
       "      <td>37.73823929</td>\n",
       "    </tr>\n",
       "    <tr>\n",
       "      <th>2020-01-07</th>\n",
       "      <td>19077900</td>\n",
       "      <td>37.61206436</td>\n",
       "    </tr>\n",
       "    <tr>\n",
       "      <th>2020-01-08</th>\n",
       "      <td>15563100</td>\n",
       "      <td>37.91296005</td>\n",
       "    </tr>\n",
       "  </tbody>\n",
       "</table>\n",
       "</div>"
      ],
      "text/plain": [
       "              Volume    Adj Close\n",
       "Date                             \n",
       "2020-01-02  15668000  37.99060822\n",
       "2020-01-03  14158300  37.78677368\n",
       "2020-01-06  14963900  37.73823929\n",
       "2020-01-07  19077900  37.61206436\n",
       "2020-01-08  15563100  37.91296005"
      ]
     },
     "execution_count": 111,
     "metadata": {},
     "output_type": "execute_result"
    }
   ],
   "source": [
    "# extract data for PFE and create a dataframe for PFE\n",
    "pfe_df = construct_df(df, \"Volume.1\",\"Adj Close.1\")\n",
    "pfe_df.head()"
   ]
  },
  {
   "cell_type": "code",
   "execution_count": 112,
   "metadata": {},
   "outputs": [
    {
     "data": {
      "text/html": [
       "<div>\n",
       "<style scoped>\n",
       "    .dataframe tbody tr th:only-of-type {\n",
       "        vertical-align: middle;\n",
       "    }\n",
       "\n",
       "    .dataframe tbody tr th {\n",
       "        vertical-align: top;\n",
       "    }\n",
       "\n",
       "    .dataframe thead th {\n",
       "        text-align: right;\n",
       "    }\n",
       "</style>\n",
       "<table border=\"1\" class=\"dataframe\">\n",
       "  <thead>\n",
       "    <tr style=\"text-align: right;\">\n",
       "      <th></th>\n",
       "      <th>Volume</th>\n",
       "      <th>Adj Close</th>\n",
       "    </tr>\n",
       "    <tr>\n",
       "      <th>Date</th>\n",
       "      <th></th>\n",
       "      <th></th>\n",
       "    </tr>\n",
       "  </thead>\n",
       "  <tbody>\n",
       "    <tr>\n",
       "      <th>2020-01-02</th>\n",
       "      <td>3587300</td>\n",
       "      <td>48.99202347</td>\n",
       "    </tr>\n",
       "    <tr>\n",
       "      <th>2020-01-03</th>\n",
       "      <td>1208700</td>\n",
       "      <td>48.7003479</td>\n",
       "    </tr>\n",
       "    <tr>\n",
       "      <th>2020-01-06</th>\n",
       "      <td>1992300</td>\n",
       "      <td>48.49617386</td>\n",
       "    </tr>\n",
       "    <tr>\n",
       "      <th>2020-01-07</th>\n",
       "      <td>1871900</td>\n",
       "      <td>48.68090057</td>\n",
       "    </tr>\n",
       "    <tr>\n",
       "      <th>2020-01-08</th>\n",
       "      <td>1869000</td>\n",
       "      <td>48.56423187</td>\n",
       "    </tr>\n",
       "  </tbody>\n",
       "</table>\n",
       "</div>"
      ],
      "text/plain": [
       "             Volume    Adj Close\n",
       "Date                            \n",
       "2020-01-02  3587300  48.99202347\n",
       "2020-01-03  1208700   48.7003479\n",
       "2020-01-06  1992300  48.49617386\n",
       "2020-01-07  1871900  48.68090057\n",
       "2020-01-08  1869000  48.56423187"
      ]
     },
     "execution_count": 112,
     "metadata": {},
     "output_type": "execute_result"
    }
   ],
   "source": [
    "# extract data for AZN and create a dataframe for AZN\n",
    "azn_df = construct_df(df, \"Volume.2\",\"Adj Close.2\")\n",
    "azn_df.head()"
   ]
  },
  {
   "cell_type": "code",
   "execution_count": 113,
   "metadata": {},
   "outputs": [
    {
     "data": {
      "text/plain": [
       "[['3587300', '48.99202347'],\n",
       " ['1208700', '48.7003479'],\n",
       " ['1992300', '48.49617386'],\n",
       " ['1871900', '48.68090057'],\n",
       " ['1869000', '48.56423187'],\n",
       " ['1959000', '48.69062424'],\n",
       " ['1872900', '48.46700287'],\n",
       " ['2395900', '48.291996'],\n",
       " ['2230800', '48.78784943'],\n",
       " ['2489400', '49.39064407']]"
      ]
     },
     "execution_count": 113,
     "metadata": {},
     "output_type": "execute_result"
    }
   ],
   "source": [
    "# azn_df.iloc[1:10][\"Volume\", \"Adj Close\"]\n",
    "a = azn_df.iloc[0:10, 0:2].values.tolist()\n",
    "a"
   ]
  },
  {
   "cell_type": "code",
   "execution_count": 114,
   "metadata": {},
   "outputs": [],
   "source": [
    "# This function accepts the column number for the features (X) and the target (y)\n",
    "# It chunks the data up with a rolling window of Xt-n to predict Xt\n",
    "# It returns a numpy array of X any y\n",
    "def window_data(df, window, start_feature_col_number, end_feature_col_number, target_col_number):\n",
    "    X = []\n",
    "    y = []\n",
    "    for i in range(len(df) - window - 1):\n",
    "        features = df.iloc[i:(i + window), start_feature_col_number:end_feature_col_number].values.tolist()\n",
    "        target = df.iloc[(i + window), target_col_number]\n",
    "        X.append(features)\n",
    "        y.append(target)\n",
    "\n",
    "    return np.array(X), np.array(y).reshape(-1, 1)"
   ]
  },
  {
   "cell_type": "code",
   "execution_count": 116,
   "metadata": {},
   "outputs": [],
   "source": [
    "def generate_data_set(df):\n",
    "    # Predict Closing Prices using a 10 day window of previous closing prices of GSK\n",
    "    window_size = 10\n",
    "    # Column index 0 is the 'Volume' column\n",
    "    # Column index 1 is the `Adj Close` column\n",
    "    start_feature_column = 0\n",
    "    end_feature_column = 2\n",
    "    target_column = 1\n",
    "    X, y = window_data(gsk_df, window_size, start_feature_column, end_feature_column, target_column)\n",
    "    return X,y"
   ]
  },
  {
   "cell_type": "code",
   "execution_count": 117,
   "metadata": {},
   "outputs": [
    {
     "name": "stdout",
     "output_type": "stream",
     "text": [
      "[['45.46113205']\n",
      " ['46.16482925']\n",
      " ['45.78888321']]\n"
     ]
    }
   ],
   "source": [
    "# Generate data for training and testing out of gsk_df\n",
    "gsk_X, gsk_y = generate_data_set(gsk_df)\n",
    "print(gsk_y[:3])"
   ]
  },
  {
   "cell_type": "code",
   "execution_count": 118,
   "metadata": {},
   "outputs": [
    {
     "name": "stdout",
     "output_type": "stream",
     "text": [
      "[['45.46113205']\n",
      " ['46.16482925']\n",
      " ['45.78888321']]\n"
     ]
    }
   ],
   "source": [
    "# Generate data for training and testing out of pfe_df\n",
    "pfe_X, pfe_y = generate_data_set(pfe_df)\n",
    "print(pfe_y[:3])"
   ]
  },
  {
   "cell_type": "code",
   "execution_count": 119,
   "metadata": {},
   "outputs": [
    {
     "name": "stdout",
     "output_type": "stream",
     "text": [
      "[['45.46113205']\n",
      " ['46.16482925']\n",
      " ['45.78888321']]\n"
     ]
    }
   ],
   "source": [
    "# Generate data for training and testing out of azn_df\n",
    "azn_X, azn_y = generate_data_set(azn_df)\n",
    "print(azn_y[:3])"
   ]
  },
  {
   "cell_type": "code",
   "execution_count": 115,
   "metadata": {},
   "outputs": [],
   "source": [
    "# Predict Closing Prices using a 10 day window of previous closing prices of GSK\n",
    "window_size = 10\n",
    "# Column index 0 is the 'Volume' column\n",
    "# Column index 1 is the `Adj Close` column\n",
    "start_feature_column = 0\n",
    "end_feature_column = 2\n",
    "target_column = 1\n",
    "gsk_X, gsk_y = window_data(gsk_df, window_size, start_feature_column, end_feature_column, target_column)"
   ]
  },
  {
   "cell_type": "code",
   "execution_count": null,
   "metadata": {},
   "outputs": [],
   "source": [
    "# Use 70% of the data for training and the remainder for testing\n",
    "split = int(0.7 * len(X))\n",
    "X_train = X[: split]\n",
    "X_test = X[split:]\n",
    "y_train = y[: split]\n",
    "y_test = y[split:]"
   ]
  },
  {
   "cell_type": "code",
   "execution_count": null,
   "metadata": {},
   "outputs": [],
   "source": []
  },
  {
   "cell_type": "code",
   "execution_count": null,
   "metadata": {},
   "outputs": [],
   "source": []
  },
  {
   "cell_type": "code",
   "execution_count": null,
   "metadata": {},
   "outputs": [],
   "source": []
  },
  {
   "cell_type": "code",
   "execution_count": null,
   "metadata": {},
   "outputs": [],
   "source": []
  },
  {
   "cell_type": "code",
   "execution_count": null,
   "metadata": {},
   "outputs": [],
   "source": []
  }
 ],
 "metadata": {
  "kernelspec": {
   "display_name": "Python [conda env:root] *",
   "language": "python",
   "name": "conda-root-py"
  },
  "language_info": {
   "codemirror_mode": {
    "name": "ipython",
    "version": 3
   },
   "file_extension": ".py",
   "mimetype": "text/x-python",
   "name": "python",
   "nbconvert_exporter": "python",
   "pygments_lexer": "ipython3",
   "version": "3.7.6"
  }
 },
 "nbformat": 4,
 "nbformat_minor": 4
}
