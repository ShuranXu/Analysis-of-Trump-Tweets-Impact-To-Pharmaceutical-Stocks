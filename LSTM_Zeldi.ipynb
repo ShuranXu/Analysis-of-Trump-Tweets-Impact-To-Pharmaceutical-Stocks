{
 "cells": [
  {
   "cell_type": "markdown",
   "metadata": {},
   "source": [
    "# LSTM Stock Predictor Using Closing Prices\n",
    "\n",
    "In this notebook, a custom LSTM RNN model is built and trained that uses a 3 day window of closing prices of Pharcameutical companies to predict the 4th day closing price. \n",
    "\n",
    "Summary of steps:\n",
    "\n",
    "1. Prepare the data for training and testing\n",
    "2. Build and train a custom LSTM RNN\n",
    "3. Evaluate the performance of the model\n"
   ]
  },
  {
   "cell_type": "markdown",
   "metadata": {},
   "source": [
    "## 1. Data Preparation"
   ]
  },
  {
   "cell_type": "code",
   "execution_count": null,
   "metadata": {},
   "outputs": [],
   "source": [
    "# Imports\n",
    "import numpy as np\n",
    "import pandas as pd\n",
    "import hvplot.pandas\n",
    "import matplotlib.pyplot as plt\n",
    "from pathlib import Path"
   ]
  },
  {
   "cell_type": "code",
   "execution_count": 2,
   "metadata": {},
   "outputs": [],
   "source": [
    "from sklearn.preprocessing import MinMaxScaler\n",
    "from tensorflow.keras.models import Sequential\n",
    "from tensorflow.keras.layers import LSTM, Dense, Dropout"
   ]
  },
  {
   "cell_type": "code",
   "execution_count": 3,
   "metadata": {},
   "outputs": [],
   "source": [
    "# Set the random seed for reproducibility\n",
    "# Note: This is for the assignment, but it is good practice to comment this out and run multiple experiments to evaluate your model\n",
    "from numpy.random import seed\n",
    "seed(1)\n",
    "from tensorflow import random\n",
    "random.set_seed(2)"
   ]
  },
  {
   "cell_type": "code",
   "execution_count": 4,
   "metadata": {},
   "outputs": [
    {
     "data": {
      "text/html": [
       "<div>\n",
       "<style scoped>\n",
       "    .dataframe tbody tr th:only-of-type {\n",
       "        vertical-align: middle;\n",
       "    }\n",
       "\n",
       "    .dataframe tbody tr th {\n",
       "        vertical-align: top;\n",
       "    }\n",
       "\n",
       "    .dataframe thead th {\n",
       "        text-align: right;\n",
       "    }\n",
       "</style>\n",
       "<table border=\"1\" class=\"dataframe\">\n",
       "  <thead>\n",
       "    <tr style=\"text-align: right;\">\n",
       "      <th></th>\n",
       "      <th>Attributes</th>\n",
       "      <th>Volume</th>\n",
       "      <th>Volume.1</th>\n",
       "      <th>Volume.2</th>\n",
       "      <th>Adj Close</th>\n",
       "      <th>Adj Close.1</th>\n",
       "      <th>Adj Close.2</th>\n",
       "    </tr>\n",
       "  </thead>\n",
       "  <tbody>\n",
       "    <tr>\n",
       "      <th>0</th>\n",
       "      <td>Symbols</td>\n",
       "      <td>GSK</td>\n",
       "      <td>PFE</td>\n",
       "      <td>AZN</td>\n",
       "      <td>GSK</td>\n",
       "      <td>PFE</td>\n",
       "      <td>AZN</td>\n",
       "    </tr>\n",
       "    <tr>\n",
       "      <th>2</th>\n",
       "      <td>1/2/2018</td>\n",
       "      <td>9465500</td>\n",
       "      <td>16185800</td>\n",
       "      <td>6107400</td>\n",
       "      <td>32.10053253</td>\n",
       "      <td>32.92734146</td>\n",
       "      <td>31.99385643</td>\n",
       "    </tr>\n",
       "    <tr>\n",
       "      <th>3</th>\n",
       "      <td>1/3/2018</td>\n",
       "      <td>6600800</td>\n",
       "      <td>13456500</td>\n",
       "      <td>4195400</td>\n",
       "      <td>31.97884941</td>\n",
       "      <td>33.1713028</td>\n",
       "      <td>32.05715179</td>\n",
       "    </tr>\n",
       "    <tr>\n",
       "      <th>4</th>\n",
       "      <td>1/4/2018</td>\n",
       "      <td>5206400</td>\n",
       "      <td>12378100</td>\n",
       "      <td>3870900</td>\n",
       "      <td>32.03968811</td>\n",
       "      <td>33.24359894</td>\n",
       "      <td>32.1023674</td>\n",
       "    </tr>\n",
       "    <tr>\n",
       "      <th>5</th>\n",
       "      <td>1/5/2018</td>\n",
       "      <td>7250700</td>\n",
       "      <td>12492900</td>\n",
       "      <td>3336000</td>\n",
       "      <td>32.60468292</td>\n",
       "      <td>33.30685043</td>\n",
       "      <td>32.43695831</td>\n",
       "    </tr>\n",
       "  </tbody>\n",
       "</table>\n",
       "</div>"
      ],
      "text/plain": [
       "  Attributes   Volume  Volume.1 Volume.2    Adj Close  Adj Close.1  \\\n",
       "0    Symbols      GSK       PFE      AZN          GSK          PFE   \n",
       "2   1/2/2018  9465500  16185800  6107400  32.10053253  32.92734146   \n",
       "3   1/3/2018  6600800  13456500  4195400  31.97884941   33.1713028   \n",
       "4   1/4/2018  5206400  12378100  3870900  32.03968811  33.24359894   \n",
       "5   1/5/2018  7250700  12492900  3336000  32.60468292  33.30685043   \n",
       "\n",
       "   Adj Close.2  \n",
       "0          AZN  \n",
       "2  31.99385643  \n",
       "3  32.05715179  \n",
       "4   32.1023674  \n",
       "5  32.43695831  "
      ]
     },
     "execution_count": 4,
     "metadata": {},
     "output_type": "execute_result"
    }
   ],
   "source": [
    "# Load the closing prices \n",
    "file_path = Path('Data/df.csv')\n",
    "df = pd.read_csv(file_path)\n",
    "df = df.drop([1])\n",
    "df.head()"
   ]
  },
  {
   "cell_type": "code",
   "execution_count": 5,
   "metadata": {},
   "outputs": [],
   "source": [
    "def construct_df(df, volume, adj_close):\n",
    "    r_df = pd.DataFrame({\"Volume\": df[volume], \"Adj Close\": df[adj_close],\n",
    "                      \"Date\": df[\"Attributes\"]})\n",
    "    r_df.drop([0], inplace=True)\n",
    "    r_df[\"Volume\"] = r_df[\"Volume\"].astype(float)\n",
    "    r_df[\"Adj Close\"] = r_df[\"Adj Close\"].astype(float)\n",
    "    r_df['Percent Change'] = r_df[\"Adj Close\"].pct_change() * 100\n",
    "    r_df[\"Date\"] = pd.to_datetime(r_df[\"Date\"])\n",
    "    r_df.drop(r_df.loc[r_df[\"Date\"] <'2020-01-01'].index, inplace=True)\n",
    "    r_df = r_df.set_index(\"Date\")\n",
    "    return r_df"
   ]
  },
  {
   "cell_type": "code",
   "execution_count": 6,
   "metadata": {},
   "outputs": [
    {
     "data": {
      "text/html": [
       "<div>\n",
       "<style scoped>\n",
       "    .dataframe tbody tr th:only-of-type {\n",
       "        vertical-align: middle;\n",
       "    }\n",
       "\n",
       "    .dataframe tbody tr th {\n",
       "        vertical-align: top;\n",
       "    }\n",
       "\n",
       "    .dataframe thead th {\n",
       "        text-align: right;\n",
       "    }\n",
       "</style>\n",
       "<table border=\"1\" class=\"dataframe\">\n",
       "  <thead>\n",
       "    <tr style=\"text-align: right;\">\n",
       "      <th></th>\n",
       "      <th>Volume</th>\n",
       "      <th>Adj Close</th>\n",
       "      <th>Percent Change</th>\n",
       "    </tr>\n",
       "    <tr>\n",
       "      <th>Date</th>\n",
       "      <th></th>\n",
       "      <th></th>\n",
       "      <th></th>\n",
       "    </tr>\n",
       "  </thead>\n",
       "  <tbody>\n",
       "    <tr>\n",
       "      <th>2020-01-02</th>\n",
       "      <td>2462400.0</td>\n",
       "      <td>45.229774</td>\n",
       "      <td>-0.148976</td>\n",
       "    </tr>\n",
       "    <tr>\n",
       "      <th>2020-01-03</th>\n",
       "      <td>2149100.0</td>\n",
       "      <td>44.805626</td>\n",
       "      <td>-0.937764</td>\n",
       "    </tr>\n",
       "    <tr>\n",
       "      <th>2020-01-06</th>\n",
       "      <td>2034500.0</td>\n",
       "      <td>44.824902</td>\n",
       "      <td>0.043021</td>\n",
       "    </tr>\n",
       "    <tr>\n",
       "      <th>2020-01-07</th>\n",
       "      <td>1718900.0</td>\n",
       "      <td>44.545349</td>\n",
       "      <td>-0.623654</td>\n",
       "    </tr>\n",
       "    <tr>\n",
       "      <th>2020-01-08</th>\n",
       "      <td>1766700.0</td>\n",
       "      <td>44.738148</td>\n",
       "      <td>0.432814</td>\n",
       "    </tr>\n",
       "  </tbody>\n",
       "</table>\n",
       "</div>"
      ],
      "text/plain": [
       "               Volume  Adj Close  Percent Change\n",
       "Date                                            \n",
       "2020-01-02  2462400.0  45.229774       -0.148976\n",
       "2020-01-03  2149100.0  44.805626       -0.937764\n",
       "2020-01-06  2034500.0  44.824902        0.043021\n",
       "2020-01-07  1718900.0  44.545349       -0.623654\n",
       "2020-01-08  1766700.0  44.738148        0.432814"
      ]
     },
     "execution_count": 6,
     "metadata": {},
     "output_type": "execute_result"
    }
   ],
   "source": [
    "# extract data for GSk and create a dataframe for GSk\n",
    "gsk_df_dr = construct_df(df, \"Volume\",\"Adj Close\")\n",
    "gsk_df_dr.head()"
   ]
  },
  {
   "cell_type": "code",
   "execution_count": 7,
   "metadata": {},
   "outputs": [
    {
     "data": {
      "text/html": [
       "<div>\n",
       "<style scoped>\n",
       "    .dataframe tbody tr th:only-of-type {\n",
       "        vertical-align: middle;\n",
       "    }\n",
       "\n",
       "    .dataframe tbody tr th {\n",
       "        vertical-align: top;\n",
       "    }\n",
       "\n",
       "    .dataframe thead th {\n",
       "        text-align: right;\n",
       "    }\n",
       "</style>\n",
       "<table border=\"1\" class=\"dataframe\">\n",
       "  <thead>\n",
       "    <tr style=\"text-align: right;\">\n",
       "      <th></th>\n",
       "      <th>Percent Change</th>\n",
       "    </tr>\n",
       "    <tr>\n",
       "      <th>Date</th>\n",
       "      <th></th>\n",
       "    </tr>\n",
       "  </thead>\n",
       "  <tbody>\n",
       "    <tr>\n",
       "      <th>2020-01-02</th>\n",
       "      <td>-0.148976</td>\n",
       "    </tr>\n",
       "    <tr>\n",
       "      <th>2020-01-03</th>\n",
       "      <td>-0.937764</td>\n",
       "    </tr>\n",
       "    <tr>\n",
       "      <th>2020-01-06</th>\n",
       "      <td>0.043021</td>\n",
       "    </tr>\n",
       "    <tr>\n",
       "      <th>2020-01-07</th>\n",
       "      <td>-0.623654</td>\n",
       "    </tr>\n",
       "    <tr>\n",
       "      <th>2020-01-08</th>\n",
       "      <td>0.432814</td>\n",
       "    </tr>\n",
       "  </tbody>\n",
       "</table>\n",
       "</div>"
      ],
      "text/plain": [
       "            Percent Change\n",
       "Date                      \n",
       "2020-01-02       -0.148976\n",
       "2020-01-03       -0.937764\n",
       "2020-01-06        0.043021\n",
       "2020-01-07       -0.623654\n",
       "2020-01-08        0.432814"
      ]
     },
     "execution_count": 7,
     "metadata": {},
     "output_type": "execute_result"
    }
   ],
   "source": [
    "gsk_df = gsk_df_dr.drop(columns=[\"Volume\", \"Adj Close\"])\n",
    "gsk_df.head()"
   ]
  },
  {
   "cell_type": "code",
   "execution_count": 8,
   "metadata": {},
   "outputs": [
    {
     "data": {
      "text/html": [
       "<div>\n",
       "<style scoped>\n",
       "    .dataframe tbody tr th:only-of-type {\n",
       "        vertical-align: middle;\n",
       "    }\n",
       "\n",
       "    .dataframe tbody tr th {\n",
       "        vertical-align: top;\n",
       "    }\n",
       "\n",
       "    .dataframe thead th {\n",
       "        text-align: right;\n",
       "    }\n",
       "</style>\n",
       "<table border=\"1\" class=\"dataframe\">\n",
       "  <thead>\n",
       "    <tr style=\"text-align: right;\">\n",
       "      <th></th>\n",
       "      <th>Percent Change</th>\n",
       "    </tr>\n",
       "    <tr>\n",
       "      <th>Date</th>\n",
       "      <th></th>\n",
       "    </tr>\n",
       "  </thead>\n",
       "  <tbody>\n",
       "    <tr>\n",
       "      <th>2020-01-02</th>\n",
       "      <td>-0.102085</td>\n",
       "    </tr>\n",
       "    <tr>\n",
       "      <th>2020-01-03</th>\n",
       "      <td>-0.536539</td>\n",
       "    </tr>\n",
       "    <tr>\n",
       "      <th>2020-01-06</th>\n",
       "      <td>-0.128443</td>\n",
       "    </tr>\n",
       "    <tr>\n",
       "      <th>2020-01-07</th>\n",
       "      <td>-0.334342</td>\n",
       "    </tr>\n",
       "    <tr>\n",
       "      <th>2020-01-08</th>\n",
       "      <td>0.799998</td>\n",
       "    </tr>\n",
       "  </tbody>\n",
       "</table>\n",
       "</div>"
      ],
      "text/plain": [
       "            Percent Change\n",
       "Date                      \n",
       "2020-01-02       -0.102085\n",
       "2020-01-03       -0.536539\n",
       "2020-01-06       -0.128443\n",
       "2020-01-07       -0.334342\n",
       "2020-01-08        0.799998"
      ]
     },
     "execution_count": 8,
     "metadata": {},
     "output_type": "execute_result"
    }
   ],
   "source": [
    "# extract data for PFE and create a dataframe for PFE\n",
    "pfe_df_dr = construct_df(df, \"Volume.1\",\"Adj Close.1\")\n",
    "pfe_df = pfe_df_dr.drop(columns=[\"Volume\", \"Adj Close\"])\n",
    "pfe_df.head()"
   ]
  },
  {
   "cell_type": "code",
   "execution_count": 9,
   "metadata": {},
   "outputs": [
    {
     "data": {
      "text/html": [
       "<div>\n",
       "<style scoped>\n",
       "    .dataframe tbody tr th:only-of-type {\n",
       "        vertical-align: middle;\n",
       "    }\n",
       "\n",
       "    .dataframe tbody tr th {\n",
       "        vertical-align: top;\n",
       "    }\n",
       "\n",
       "    .dataframe thead th {\n",
       "        text-align: right;\n",
       "    }\n",
       "</style>\n",
       "<table border=\"1\" class=\"dataframe\">\n",
       "  <thead>\n",
       "    <tr style=\"text-align: right;\">\n",
       "      <th></th>\n",
       "      <th>Percent Change</th>\n",
       "    </tr>\n",
       "    <tr>\n",
       "      <th>Date</th>\n",
       "      <th></th>\n",
       "    </tr>\n",
       "  </thead>\n",
       "  <tbody>\n",
       "    <tr>\n",
       "      <th>2020-01-02</th>\n",
       "      <td>1.062978</td>\n",
       "    </tr>\n",
       "    <tr>\n",
       "      <th>2020-01-03</th>\n",
       "      <td>-0.595353</td>\n",
       "    </tr>\n",
       "    <tr>\n",
       "      <th>2020-01-06</th>\n",
       "      <td>-0.419246</td>\n",
       "    </tr>\n",
       "    <tr>\n",
       "      <th>2020-01-07</th>\n",
       "      <td>0.380910</td>\n",
       "    </tr>\n",
       "    <tr>\n",
       "      <th>2020-01-08</th>\n",
       "      <td>-0.239660</td>\n",
       "    </tr>\n",
       "  </tbody>\n",
       "</table>\n",
       "</div>"
      ],
      "text/plain": [
       "            Percent Change\n",
       "Date                      \n",
       "2020-01-02        1.062978\n",
       "2020-01-03       -0.595353\n",
       "2020-01-06       -0.419246\n",
       "2020-01-07        0.380910\n",
       "2020-01-08       -0.239660"
      ]
     },
     "execution_count": 9,
     "metadata": {},
     "output_type": "execute_result"
    }
   ],
   "source": [
    "# extract data for AZN and create a dataframe for AZN\n",
    "azn_df_dr = construct_df(df, \"Volume.2\",\"Adj Close.2\")\n",
    "azn_df = azn_df_dr.drop(columns=[\"Volume\", \"Adj Close\"])\n",
    "azn_df.head()"
   ]
  },
  {
   "cell_type": "code",
   "execution_count": 10,
   "metadata": {},
   "outputs": [],
   "source": [
    "# This function accepts the column number for the features (X) and the target (y)\n",
    "# It chunks the data up with a rolling window of Xt-n to predict Xt\n",
    "# It returns a numpy array of X any y\n",
    "def window_data(df, window, feature_col_number, target_col_number):\n",
    "    X = []\n",
    "    y = []\n",
    "    for i in range(len(df) - window - 1):\n",
    "        features = df.iloc[i:(i + window), feature_col_number]\n",
    "        target = df.iloc[(i + window), target_col_number]\n",
    "        X.append(features)\n",
    "        y.append(target)\n",
    "    return np.array(X), np.array(y).reshape(-1, 1)"
   ]
  },
  {
   "cell_type": "markdown",
   "metadata": {},
   "source": [
    "## Predict closing Prices for PFE using LSTM"
   ]
  },
  {
   "cell_type": "code",
   "execution_count": 11,
   "metadata": {},
   "outputs": [],
   "source": [
    "\n",
    "# Predict Closing Prices using a 3 day window of previous closing prices\n",
    "# Then, experiment with window sizes anywhere from 1 to 10 and see how the model performance changes\n",
    "window_size = 3\n",
    "\n",
    "feature_column = 0\n",
    "target_column = 0\n",
    "X, y = window_data(pfe_df, window_size, feature_column, target_column)"
   ]
  },
  {
   "cell_type": "code",
   "execution_count": 12,
   "metadata": {},
   "outputs": [],
   "source": [
    "# Use 70% of the data for training and the remainder for testing\n",
    "split = int(0.7 * len(X))\n",
    "\n",
    "X_train = X[: split]\n",
    "X_test = X[split:]\n",
    "\n",
    "y_train = y[: split]\n",
    "y_test = y[split:]"
   ]
  },
  {
   "cell_type": "code",
   "execution_count": 13,
   "metadata": {},
   "outputs": [],
   "source": [
    "# Use the MinMaxScaler to scale data between 0 and 1.\n",
    "\n",
    "x_train_scaler = MinMaxScaler()\n",
    "x_test_scaler = MinMaxScaler()\n",
    "y_train_scaler = MinMaxScaler()\n",
    "y_test_scaler = MinMaxScaler()\n",
    "\n",
    "# Fit the scaler for the Training Data\n",
    "x_train_scaler.fit(X_train)\n",
    "y_train_scaler.fit(y_train)\n",
    "\n",
    "# Scale the training data\n",
    "X_train = x_train_scaler.transform(X_train)\n",
    "y_train = y_train_scaler.transform(y_train)\n",
    "\n",
    "# Fit the scaler for the Testing Data\n",
    "x_test_scaler.fit(X_test)\n",
    "y_test_scaler.fit(y_test)\n",
    "\n",
    "# Scale the y_test data\n",
    "X_test = x_test_scaler.transform(X_test)\n",
    "y_test = y_test_scaler.transform(y_test)\n"
   ]
  },
  {
   "cell_type": "code",
   "execution_count": 14,
   "metadata": {},
   "outputs": [
    {
     "name": "stdout",
     "output_type": "stream",
     "text": [
      "X_train sample values:\n",
      "[[[0.45716682]\n",
      "  [0.43114425]\n",
      "  [0.45558804]]\n",
      "\n",
      " [[0.43114425]\n",
      "  [0.45558804]\n",
      "  [0.44325525]]\n",
      "\n",
      " [[0.45558804]\n",
      "  [0.44325525]\n",
      "  [0.51119893]]] \n",
      "\n",
      "X_test sample values:\n",
      "[[[0.32086692]\n",
      "  [0.13553249]\n",
      "  [0.21123136]]\n",
      "\n",
      " [[0.13553249]\n",
      "  [0.21123136]\n",
      "  [0.2063723 ]]\n",
      "\n",
      " [[0.21123136]\n",
      "  [0.2063723 ]\n",
      "  [0.46821303]]]\n"
     ]
    }
   ],
   "source": [
    "# Reshape the features for the model\n",
    "X_train = X_train.reshape((X_train.shape[0], X_train.shape[1], 1))\n",
    "X_test = X_test.reshape((X_test.shape[0], X_test.shape[1], 1))\n",
    "\n",
    "# Print some sample data after reshaping the datasets\n",
    "print (f\"X_train sample values:\\n{X_train[:3]} \\n\")\n",
    "print (f\"X_test sample values:\\n{X_test[:3]}\")"
   ]
  },
  {
   "cell_type": "markdown",
   "metadata": {},
   "source": [
    "## Build and Train the LSTM RNN\n",
    "\n",
    "In this section, custom LSTM RNN is built and fit (trained) using the training data.\n",
    "\n",
    "1. Define the model architecture\n",
    "2. Compile the model\n",
    "3. Fit the model to the training data\n",
    "\n"
   ]
  },
  {
   "cell_type": "code",
   "execution_count": 15,
   "metadata": {},
   "outputs": [],
   "source": [
    "# Build the LSTM model. \n",
    "# The return sequences need to be set to True when adding additional LSTM layers, but \n",
    "# You don't have to do this for the final layer. \n",
    "# Note: The dropouts help prevent overfitting\n",
    "# Note: The input shape is the number of time steps and the number of indicators\n",
    "# Note: Batching inputs has a different input shape of Samples/TimeSteps/Features\n",
    "\n",
    "# Define the LSTM RNN model.\n",
    "model = Sequential()\n",
    "\n",
    "# Initial model setup\n",
    "number_units = 30\n",
    "dropout_fraction = 0.2\n",
    "\n",
    "# Layer 1\n",
    "model.add(LSTM(\n",
    "    units=number_units,\n",
    "    return_sequences=True,\n",
    "    input_shape=(X_train.shape[1], 1))\n",
    "    )\n",
    "model.add(Dropout(dropout_fraction))\n",
    "\n",
    "# Layer 2\n",
    "model.add(LSTM(units=number_units, return_sequences=True))\n",
    "model.add(Dropout(dropout_fraction))\n",
    "\n",
    "# Layer 3\n",
    "model.add(LSTM(units=number_units))\n",
    "model.add(Dropout(dropout_fraction))\n",
    "\n",
    "# Output layer\n",
    "model.add(Dense(1))"
   ]
  },
  {
   "cell_type": "code",
   "execution_count": 16,
   "metadata": {},
   "outputs": [],
   "source": [
    "# Compile the model\n",
    "model.compile(optimizer=\"adam\", loss=\"mean_squared_error\")"
   ]
  },
  {
   "cell_type": "code",
   "execution_count": 17,
   "metadata": {},
   "outputs": [
    {
     "name": "stdout",
     "output_type": "stream",
     "text": [
      "Model: \"sequential\"\n",
      "_________________________________________________________________\n",
      "Layer (type)                 Output Shape              Param #   \n",
      "=================================================================\n",
      "lstm (LSTM)                  (None, 3, 30)             3840      \n",
      "_________________________________________________________________\n",
      "dropout (Dropout)            (None, 3, 30)             0         \n",
      "_________________________________________________________________\n",
      "lstm_1 (LSTM)                (None, 3, 30)             7320      \n",
      "_________________________________________________________________\n",
      "dropout_1 (Dropout)          (None, 3, 30)             0         \n",
      "_________________________________________________________________\n",
      "lstm_2 (LSTM)                (None, 30)                7320      \n",
      "_________________________________________________________________\n",
      "dropout_2 (Dropout)          (None, 30)                0         \n",
      "_________________________________________________________________\n",
      "dense (Dense)                (None, 1)                 31        \n",
      "=================================================================\n",
      "Total params: 18,511\n",
      "Trainable params: 18,511\n",
      "Non-trainable params: 0\n",
      "_________________________________________________________________\n"
     ]
    }
   ],
   "source": [
    "# Summarize the model\n",
    "model.summary()"
   ]
  },
  {
   "cell_type": "code",
   "execution_count": 18,
   "metadata": {},
   "outputs": [
    {
     "name": "stdout",
     "output_type": "stream",
     "text": [
      "Epoch 1/20\n",
      "64/64 [==============================] - 0s 6ms/step - loss: 0.0846\n",
      "Epoch 2/20\n",
      "64/64 [==============================] - 0s 5ms/step - loss: 0.0308\n",
      "Epoch 3/20\n",
      "64/64 [==============================] - 0s 5ms/step - loss: 0.0282\n",
      "Epoch 4/20\n",
      "64/64 [==============================] - 0s 5ms/step - loss: 0.0323\n",
      "Epoch 5/20\n",
      "64/64 [==============================] - 0s 5ms/step - loss: 0.0295\n",
      "Epoch 6/20\n",
      "64/64 [==============================] - 0s 5ms/step - loss: 0.0300\n",
      "Epoch 7/20\n",
      "64/64 [==============================] - 0s 5ms/step - loss: 0.0308\n",
      "Epoch 8/20\n",
      "64/64 [==============================] - 0s 5ms/step - loss: 0.0273\n",
      "Epoch 9/20\n",
      "64/64 [==============================] - 0s 5ms/step - loss: 0.0281\n",
      "Epoch 10/20\n",
      "64/64 [==============================] - 0s 5ms/step - loss: 0.0292\n",
      "Epoch 11/20\n",
      "64/64 [==============================] - 0s 5ms/step - loss: 0.0279\n",
      "Epoch 12/20\n",
      "64/64 [==============================] - 0s 5ms/step - loss: 0.0285\n",
      "Epoch 13/20\n",
      "64/64 [==============================] - 0s 5ms/step - loss: 0.0276\n",
      "Epoch 14/20\n",
      "64/64 [==============================] - 0s 5ms/step - loss: 0.0295\n",
      "Epoch 15/20\n",
      "64/64 [==============================] - 0s 5ms/step - loss: 0.0279\n",
      "Epoch 16/20\n",
      "64/64 [==============================] - 0s 5ms/step - loss: 0.0284\n",
      "Epoch 17/20\n",
      "64/64 [==============================] - 0s 5ms/step - loss: 0.0247\n",
      "Epoch 18/20\n",
      "64/64 [==============================] - 0s 5ms/step - loss: 0.0261\n",
      "Epoch 19/20\n",
      "64/64 [==============================] - 0s 5ms/step - loss: 0.0280\n",
      "Epoch 20/20\n",
      "64/64 [==============================] - 0s 5ms/step - loss: 0.0294\n"
     ]
    },
    {
     "data": {
      "text/plain": [
       "<tensorflow.python.keras.callbacks.History at 0x7ff1470edc90>"
      ]
     },
     "execution_count": 18,
     "metadata": {},
     "output_type": "execute_result"
    }
   ],
   "source": [
    "# Train the model\n",
    "\n",
    "model.fit(X_train, y_train, epochs=20, shuffle=False, batch_size=2, verbose=1)"
   ]
  },
  {
   "cell_type": "markdown",
   "metadata": {},
   "source": [
    "## Model Performance\n",
    "\n",
    "In this section, you will evaluate the model using the test data. \n",
    "\n",
    "You will need to:\n",
    "1. Evaluate the model using the `X_test` and `y_test` data.\n",
    "2. Use the X_test data to make predictions\n",
    "3. Create a DataFrame of Real (y_test) vs predicted values. \n",
    "4. Plot the Real vs predicted values as a line chart\n",
    "\n",
    "### Note\n",
    "Apply the `inverse_transform` function to the predicted and y_test values to recover the actual returns."
   ]
  },
  {
   "cell_type": "code",
   "execution_count": 19,
   "metadata": {},
   "outputs": [
    {
     "name": "stdout",
     "output_type": "stream",
     "text": [
      "2/2 [==============================] - 0s 1ms/step - loss: 0.0443\n"
     ]
    },
    {
     "data": {
      "text/plain": [
       "0.04432561248540878"
      ]
     },
     "execution_count": 19,
     "metadata": {},
     "output_type": "execute_result"
    }
   ],
   "source": [
    "# Evaluate the model\n",
    "model.evaluate(X_test, y_test, verbose=1)"
   ]
  },
  {
   "cell_type": "code",
   "execution_count": 20,
   "metadata": {},
   "outputs": [],
   "source": [
    "# Make predictions using the testing data X_test\n",
    "predicted = model.predict(X_test)"
   ]
  },
  {
   "cell_type": "code",
   "execution_count": 21,
   "metadata": {},
   "outputs": [],
   "source": [
    "# Recover the original returns instead of the scaled version\n",
    "predicted_prices = y_test_scaler.inverse_transform(predicted)\n",
    "real_prices = y_test_scaler.inverse_transform(y_test.reshape(-1, 1))"
   ]
  },
  {
   "cell_type": "code",
   "execution_count": 22,
   "metadata": {},
   "outputs": [
    {
     "data": {
      "text/html": [
       "<div>\n",
       "<style scoped>\n",
       "    .dataframe tbody tr th:only-of-type {\n",
       "        vertical-align: middle;\n",
       "    }\n",
       "\n",
       "    .dataframe tbody tr th {\n",
       "        vertical-align: top;\n",
       "    }\n",
       "\n",
       "    .dataframe thead th {\n",
       "        text-align: right;\n",
       "    }\n",
       "</style>\n",
       "<table border=\"1\" class=\"dataframe\">\n",
       "  <thead>\n",
       "    <tr style=\"text-align: right;\">\n",
       "      <th></th>\n",
       "      <th>Real</th>\n",
       "      <th>Predicted</th>\n",
       "    </tr>\n",
       "    <tr>\n",
       "      <th>Date</th>\n",
       "      <th></th>\n",
       "      <th></th>\n",
       "    </tr>\n",
       "  </thead>\n",
       "  <tbody>\n",
       "    <tr>\n",
       "      <th>2020-07-10</th>\n",
       "      <td>-0.859260</td>\n",
       "      <td>0.797568</td>\n",
       "    </tr>\n",
       "    <tr>\n",
       "      <th>2020-07-13</th>\n",
       "      <td>1.105804</td>\n",
       "      <td>0.744166</td>\n",
       "    </tr>\n",
       "    <tr>\n",
       "      <th>2020-07-14</th>\n",
       "      <td>4.079205</td>\n",
       "      <td>0.789000</td>\n",
       "    </tr>\n",
       "    <tr>\n",
       "      <th>2020-07-15</th>\n",
       "      <td>0.056801</td>\n",
       "      <td>0.864584</td>\n",
       "    </tr>\n",
       "    <tr>\n",
       "      <th>2020-07-16</th>\n",
       "      <td>1.390868</td>\n",
       "      <td>0.998835</td>\n",
       "    </tr>\n",
       "  </tbody>\n",
       "</table>\n",
       "</div>"
      ],
      "text/plain": [
       "                Real  Predicted\n",
       "Date                           \n",
       "2020-07-10 -0.859260   0.797568\n",
       "2020-07-13  1.105804   0.744166\n",
       "2020-07-14  4.079205   0.789000\n",
       "2020-07-15  0.056801   0.864584\n",
       "2020-07-16  1.390868   0.998835"
      ]
     },
     "execution_count": 22,
     "metadata": {},
     "output_type": "execute_result"
    }
   ],
   "source": [
    "# Create a DataFrame of Real and Predicted values\n",
    "stocks = pd.DataFrame({\n",
    "    \"Real\": real_prices.ravel(),\n",
    "    \"Predicted\": predicted_prices.ravel()\n",
    "}, index = pfe_df.index[-len(real_prices): ]) \n",
    "stocks.head()\n"
   ]
  },
  {
   "cell_type": "code",
   "execution_count": 23,
   "metadata": {},
   "outputs": [
    {
     "data": {
      "text/plain": [
       "<matplotlib.axes._subplots.AxesSubplot at 0x7ff14ec2de10>"
      ]
     },
     "execution_count": 23,
     "metadata": {},
     "output_type": "execute_result"
    },
    {
     "data": {
      "image/png": "[encoded data removed]",
      "text/plain": [
       "<Figure size 432x288 with 1 Axes>"
      ]
     },
     "metadata": {
      "needs_background": "light"
     },
     "output_type": "display_data"
    }
   ],
   "source": [
    "# Plot the real vs predicted values as a line chart\n",
    "\n",
    "stocks.plot(title=\"LSTM performance on PFE stock returns\")\n",
    "#plt.savefig('./Images/LSTMmodel_PFE_stock_returns.png')"
   ]
  },
  {
   "cell_type": "markdown",
   "metadata": {},
   "source": [
    "## Predict Closing prices for GSK using LSTM"
   ]
  },
  {
   "cell_type": "code",
   "execution_count": 75,
   "metadata": {},
   "outputs": [],
   "source": [
    "###GSK###########\n",
    "# Predict Closing Prices using a 3 day window of previous closing prices\n",
    "# Then, experiment with window sizes anywhere from 1 to 10 and see how the model performance changes\n",
    "window_size = 3\n",
    "\n",
    "# Column index 1 is the 'Close' column\n",
    "# Column index 1 is the `Close` column\n",
    "feature_column = 0\n",
    "target_column = 0\n",
    "X, y = window_data(gsk_df, window_size, feature_column, target_column)"
   ]
  },
  {
   "cell_type": "code",
   "execution_count": 76,
   "metadata": {},
   "outputs": [],
   "source": [
    "# Use 70% of the data for training and the remaineder for testing\n",
    "split = int(0.7 * len(X))\n",
    "\n",
    "X_train = X[: split]\n",
    "X_test = X[split:]\n",
    "\n",
    "y_train = y[: split]\n",
    "y_test = y[split:]"
   ]
  },
  {
   "cell_type": "code",
   "execution_count": 77,
   "metadata": {},
   "outputs": [],
   "source": [
    "# Use the MinMaxScaler to scale data between 0 and 1.\n",
    "\n",
    "x_train_scaler = MinMaxScaler()\n",
    "x_test_scaler = MinMaxScaler()\n",
    "y_train_scaler = MinMaxScaler()\n",
    "y_test_scaler = MinMaxScaler()\n",
    "\n",
    "# Fit the scaler for the Training Data\n",
    "x_train_scaler.fit(X_train)\n",
    "y_train_scaler.fit(y_train)\n",
    "\n",
    "# Scale the training data\n",
    "X_train = x_train_scaler.transform(X_train)\n",
    "y_train = y_train_scaler.transform(y_train)\n",
    "\n",
    "# Fit the scaler for the Testing Data\n",
    "x_test_scaler.fit(X_test)\n",
    "y_test_scaler.fit(y_test)\n",
    "\n",
    "# Scale the y_test data\n",
    "X_test = x_test_scaler.transform(X_test)\n",
    "y_test = y_test_scaler.transform(y_test)"
   ]
  },
  {
   "cell_type": "code",
   "execution_count": 78,
   "metadata": {},
   "outputs": [
    {
     "name": "stdout",
     "output_type": "stream",
     "text": [
      "X_train sample values:\n",
      "[[[0.53175077]\n",
      "  [0.49325117]\n",
      "  [0.54112184]]\n",
      "\n",
      " [[0.49325117]\n",
      "  [0.54112184]\n",
      "  [0.5085824 ]]\n",
      "\n",
      " [[0.54112184]\n",
      "  [0.5085824 ]\n",
      "  [0.5601471 ]]] \n",
      "\n",
      "X_test sample values:\n",
      "[[[0.37680261]\n",
      "  [0.19810849]\n",
      "  [0.61632428]]\n",
      "\n",
      " [[0.19810849]\n",
      "  [0.61632428]\n",
      "  [0.31164086]]\n",
      "\n",
      " [[0.61632428]\n",
      "  [0.31164086]\n",
      "  [0.26715912]]]\n"
     ]
    }
   ],
   "source": [
    "# Reshape the features for the model\n",
    "X_train = X_train.reshape((X_train.shape[0], X_train.shape[1], 1))\n",
    "X_test = X_test.reshape((X_test.shape[0], X_test.shape[1], 1))\n",
    "\n",
    "# Print some sample data after reshaping the datasets\n",
    "print (f\"X_train sample values:\\n{X_train[:3]} \\n\")\n",
    "print (f\"X_test sample values:\\n{X_test[:3]}\")"
   ]
  },
  {
   "cell_type": "code",
   "execution_count": 79,
   "metadata": {},
   "outputs": [],
   "source": [
    "# Build the LSTM model. \n",
    "\n",
    "# Define the LSTM RNN model.\n",
    "model = Sequential()\n",
    "\n",
    "# Initial model setup\n",
    "number_units = 30\n",
    "dropout_fraction = 0.2\n",
    "\n",
    "# Layer 1\n",
    "model.add(LSTM(\n",
    "    units=number_units,\n",
    "    return_sequences=True,\n",
    "    input_shape=(X_train.shape[1], 1))\n",
    "    )\n",
    "model.add(Dropout(dropout_fraction))\n",
    "\n",
    "# Layer 2\n",
    "model.add(LSTM(units=number_units, return_sequences=True))\n",
    "model.add(Dropout(dropout_fraction))\n",
    "\n",
    "# Layer 3\n",
    "model.add(LSTM(units=number_units))\n",
    "model.add(Dropout(dropout_fraction))\n",
    "\n",
    "# Output layer\n",
    "model.add(Dense(1))"
   ]
  },
  {
   "cell_type": "code",
   "execution_count": 80,
   "metadata": {},
   "outputs": [],
   "source": [
    "# Compile the model\n",
    "model.compile(optimizer=\"adam\", loss=\"mean_squared_error\")"
   ]
  },
  {
   "cell_type": "code",
   "execution_count": 81,
   "metadata": {},
   "outputs": [
    {
     "name": "stdout",
     "output_type": "stream",
     "text": [
      "Model: \"sequential_4\"\n",
      "_________________________________________________________________\n",
      "Layer (type)                 Output Shape              Param #   \n",
      "=================================================================\n",
      "lstm_12 (LSTM)               (None, 3, 30)             3840      \n",
      "_________________________________________________________________\n",
      "dropout_12 (Dropout)         (None, 3, 30)             0         \n",
      "_________________________________________________________________\n",
      "lstm_13 (LSTM)               (None, 3, 30)             7320      \n",
      "_________________________________________________________________\n",
      "dropout_13 (Dropout)         (None, 3, 30)             0         \n",
      "_________________________________________________________________\n",
      "lstm_14 (LSTM)               (None, 30)                7320      \n",
      "_________________________________________________________________\n",
      "dropout_14 (Dropout)         (None, 30)                0         \n",
      "_________________________________________________________________\n",
      "dense_4 (Dense)              (None, 1)                 31        \n",
      "=================================================================\n",
      "Total params: 18,511\n",
      "Trainable params: 18,511\n",
      "Non-trainable params: 0\n",
      "_________________________________________________________________\n"
     ]
    }
   ],
   "source": [
    "# Summarize the model\n",
    "model.summary()"
   ]
  },
  {
   "cell_type": "code",
   "execution_count": 88,
   "metadata": {},
   "outputs": [
    {
     "name": "stdout",
     "output_type": "stream",
     "text": [
      "Epoch 1/20\n",
      "6/6 [==============================] - 0s 11ms/step - loss: 0.0190\n",
      "Epoch 2/20\n",
      "6/6 [==============================] - 0s 4ms/step - loss: 0.0178\n",
      "Epoch 3/20\n",
      "6/6 [==============================] - 0s 5ms/step - loss: 0.0193\n",
      "Epoch 4/20\n",
      "6/6 [==============================] - 0s 4ms/step - loss: 0.0172\n",
      "Epoch 5/20\n",
      "6/6 [==============================] - 0s 5ms/step - loss: 0.0166\n",
      "Epoch 6/20\n",
      "6/6 [==============================] - 0s 6ms/step - loss: 0.0168\n",
      "Epoch 7/20\n",
      "6/6 [==============================] - 0s 8ms/step - loss: 0.0158\n",
      "Epoch 8/20\n",
      "6/6 [==============================] - 0s 5ms/step - loss: 0.0179\n",
      "Epoch 9/20\n",
      "6/6 [==============================] - 0s 4ms/step - loss: 0.0175\n",
      "Epoch 10/20\n",
      "6/6 [==============================] - 0s 4ms/step - loss: 0.0170\n",
      "Epoch 11/20\n",
      "6/6 [==============================] - 0s 4ms/step - loss: 0.0153\n",
      "Epoch 12/20\n",
      "6/6 [==============================] - 0s 4ms/step - loss: 0.0193\n",
      "Epoch 13/20\n",
      "6/6 [==============================] - 0s 5ms/step - loss: 0.0167\n",
      "Epoch 14/20\n",
      "6/6 [==============================] - 0s 4ms/step - loss: 0.0166\n",
      "Epoch 15/20\n",
      "6/6 [==============================] - 0s 4ms/step - loss: 0.0159\n",
      "Epoch 16/20\n",
      "6/6 [==============================] - 0s 5ms/step - loss: 0.0152\n",
      "Epoch 17/20\n",
      "6/6 [==============================] - 0s 4ms/step - loss: 0.0172\n",
      "Epoch 18/20\n",
      "6/6 [==============================] - 0s 6ms/step - loss: 0.0171\n",
      "Epoch 19/20\n",
      "6/6 [==============================] - 0s 4ms/step - loss: 0.0170\n",
      "Epoch 20/20\n",
      "6/6 [==============================] - 0s 6ms/step - loss: 0.0178\n"
     ]
    },
    {
     "data": {
      "text/plain": [
       "<tensorflow.python.keras.callbacks.History at 0x7fa8d3917f10>"
      ]
     },
     "execution_count": 88,
     "metadata": {},
     "output_type": "execute_result"
    }
   ],
   "source": [
    "# Train the model\n",
    "\n",
    "model.fit(X_train, y_train, epochs=20, shuffle=False, batch_size=4, verbose=1)"
   ]
  },
  {
   "cell_type": "code",
   "execution_count": 89,
   "metadata": {},
   "outputs": [
    {
     "name": "stdout",
     "output_type": "stream",
     "text": [
      "2/2 [==============================] - 0s 2ms/step - loss: 0.0550\n"
     ]
    },
    {
     "data": {
      "text/plain": [
       "0.05496955290436745"
      ]
     },
     "execution_count": 89,
     "metadata": {},
     "output_type": "execute_result"
    }
   ],
   "source": [
    "# Evaluate the model\n",
    "model.evaluate(X_test, y_test, verbose=1)"
   ]
  },
  {
   "cell_type": "code",
   "execution_count": 90,
   "metadata": {},
   "outputs": [],
   "source": [
    "# Make predictions using the testing data X_test\n",
    "predicted = model.predict(X_test)"
   ]
  },
  {
   "cell_type": "code",
   "execution_count": 91,
   "metadata": {},
   "outputs": [],
   "source": [
    "# Recover the original prices instead of the scaled version\n",
    "predicted_prices = y_test_scaler.inverse_transform(predicted)\n",
    "real_prices = y_test_scaler.inverse_transform(y_test.reshape(-1, 1))"
   ]
  },
  {
   "cell_type": "code",
   "execution_count": 92,
   "metadata": {},
   "outputs": [
    {
     "data": {
      "text/html": [
       "<div>\n",
       "<style scoped>\n",
       "    .dataframe tbody tr th:only-of-type {\n",
       "        vertical-align: middle;\n",
       "    }\n",
       "\n",
       "    .dataframe tbody tr th {\n",
       "        vertical-align: top;\n",
       "    }\n",
       "\n",
       "    .dataframe thead th {\n",
       "        text-align: right;\n",
       "    }\n",
       "</style>\n",
       "<table border=\"1\" class=\"dataframe\">\n",
       "  <thead>\n",
       "    <tr style=\"text-align: right;\">\n",
       "      <th></th>\n",
       "      <th>Real</th>\n",
       "      <th>Predicted</th>\n",
       "    </tr>\n",
       "    <tr>\n",
       "      <th>Date</th>\n",
       "      <th></th>\n",
       "      <th></th>\n",
       "    </tr>\n",
       "  </thead>\n",
       "  <tbody>\n",
       "    <tr>\n",
       "      <th>2020-07-10</th>\n",
       "      <td>-0.883872</td>\n",
       "      <td>0.244262</td>\n",
       "    </tr>\n",
       "    <tr>\n",
       "      <th>2020-07-13</th>\n",
       "      <td>-1.139452</td>\n",
       "      <td>0.241300</td>\n",
       "    </tr>\n",
       "    <tr>\n",
       "      <th>2020-07-14</th>\n",
       "      <td>0.400897</td>\n",
       "      <td>0.340320</td>\n",
       "    </tr>\n",
       "    <tr>\n",
       "      <th>2020-07-15</th>\n",
       "      <td>1.572255</td>\n",
       "      <td>0.226058</td>\n",
       "    </tr>\n",
       "    <tr>\n",
       "      <th>2020-07-16</th>\n",
       "      <td>3.071255</td>\n",
       "      <td>0.290591</td>\n",
       "    </tr>\n",
       "  </tbody>\n",
       "</table>\n",
       "</div>"
      ],
      "text/plain": [
       "                Real  Predicted\n",
       "Date                           \n",
       "2020-07-10 -0.883872   0.244262\n",
       "2020-07-13 -1.139452   0.241300\n",
       "2020-07-14  0.400897   0.340320\n",
       "2020-07-15  1.572255   0.226058\n",
       "2020-07-16  3.071255   0.290591"
      ]
     },
     "execution_count": 92,
     "metadata": {},
     "output_type": "execute_result"
    }
   ],
   "source": [
    "# Create a DataFrame of Real and Predicted values\n",
    "stocks = pd.DataFrame({\n",
    "    \"Real\": real_prices.ravel(),\n",
    "    \"Predicted\": predicted_prices.ravel()\n",
    "}, index = gsk_df.index[-len(real_prices): ]) \n",
    "stocks.head()"
   ]
  },
  {
   "cell_type": "code",
   "execution_count": 93,
   "metadata": {},
   "outputs": [
    {
     "data": {
      "image/png": "[encoded data removed]",
      "text/plain": [
       "<Figure size 432x288 with 1 Axes>"
      ]
     },
     "metadata": {
      "needs_background": "light"
     },
     "output_type": "display_data"
    }
   ],
   "source": [
    "# Plot the real vs predicted values as a line chart\n",
    "# WINDOW 3, epochs 20, batch 3\n",
    "stocks.plot(title=\"LSTM performance on PFE stock returns\")\n",
    "plt.savefig('./Images/LSTMmodel_GSK_stock_returns.png')"
   ]
  },
  {
   "cell_type": "markdown",
   "metadata": {},
   "source": [
    "## Predict Closing prices for AZN using LSTM"
   ]
  },
  {
   "cell_type": "code",
   "execution_count": 95,
   "metadata": {},
   "outputs": [],
   "source": [
    "###AZN###########\n",
    "# Predict Closing Prices using a 3 day window of previous closing prices\n",
    "# Then, experiment with window sizes anywhere from 1 to 10 and see how the model performance changes\n",
    "window_size = 3\n",
    "\n",
    "feature_column = 0\n",
    "target_column = 0\n",
    "X, y = window_data(azn_df, window_size, feature_column, target_column)"
   ]
  },
  {
   "cell_type": "code",
   "execution_count": 96,
   "metadata": {},
   "outputs": [],
   "source": [
    "# Use 70% of the data for training and the remaineder for testing\n",
    "split = int(0.7 * len(X))\n",
    "\n",
    "X_train = X[: split]\n",
    "X_test = X[split:]\n",
    "\n",
    "y_train = y[: split]\n",
    "y_test = y[split:]"
   ]
  },
  {
   "cell_type": "code",
   "execution_count": 97,
   "metadata": {},
   "outputs": [],
   "source": [
    "# Use the MinMaxScaler to scale data between 0 and 1.\n",
    "\n",
    "x_train_scaler = MinMaxScaler()\n",
    "x_test_scaler = MinMaxScaler()\n",
    "y_train_scaler = MinMaxScaler()\n",
    "y_test_scaler = MinMaxScaler()\n",
    "\n",
    "# Fit the scaler for the Training Data\n",
    "x_train_scaler.fit(X_train)\n",
    "y_train_scaler.fit(y_train)\n",
    "\n",
    "# Scale the training data\n",
    "X_train = x_train_scaler.transform(X_train)\n",
    "y_train = y_train_scaler.transform(y_train)\n",
    "\n",
    "# Fit the scaler for the Testing Data\n",
    "x_test_scaler.fit(X_test)\n",
    "y_test_scaler.fit(y_test)\n",
    "\n",
    "# Scale the y_test data\n",
    "X_test = x_test_scaler.transform(X_test)\n",
    "y_test = y_test_scaler.transform(y_test)"
   ]
  },
  {
   "cell_type": "code",
   "execution_count": 98,
   "metadata": {},
   "outputs": [
    {
     "name": "stdout",
     "output_type": "stream",
     "text": [
      "X_train sample values:\n",
      "[[[0.61719084]\n",
      "  [0.52958172]\n",
      "  [0.53888543]]\n",
      "\n",
      " [[0.52958172]\n",
      "  [0.53888543]\n",
      "  [0.58115739]]\n",
      "\n",
      " [[0.53888543]\n",
      "  [0.58115739]\n",
      "  [0.54837287]]] \n",
      "\n",
      "X_test sample values:\n",
      "[[[0.3960704 ]\n",
      "  [0.24511071]\n",
      "  [0.46522584]]\n",
      "\n",
      " [[0.24511071]\n",
      "  [0.46522584]\n",
      "  [0.31160322]]\n",
      "\n",
      " [[0.46522584]\n",
      "  [0.31160322]\n",
      "  [0.31308071]]]\n"
     ]
    }
   ],
   "source": [
    "# Reshape the features for the model\n",
    "X_train = X_train.reshape((X_train.shape[0], X_train.shape[1], 1))\n",
    "X_test = X_test.reshape((X_test.shape[0], X_test.shape[1], 1))\n",
    "\n",
    "# Print some sample data after reshaping the datasets\n",
    "print (f\"X_train sample values:\\n{X_train[:3]} \\n\")\n",
    "print (f\"X_test sample values:\\n{X_test[:3]}\")"
   ]
  },
  {
   "cell_type": "code",
   "execution_count": 99,
   "metadata": {},
   "outputs": [],
   "source": [
    "# Build the LSTM model. \n",
    "\n",
    "# Define the LSTM RNN model.\n",
    "model = Sequential()\n",
    "\n",
    "# Initial model setup\n",
    "number_units = 30\n",
    "dropout_fraction = 0.2\n",
    "\n",
    "# Layer 1\n",
    "model.add(LSTM(\n",
    "    units=number_units,\n",
    "    return_sequences=True,\n",
    "    input_shape=(X_train.shape[1], 1))\n",
    "    )\n",
    "model.add(Dropout(dropout_fraction))\n",
    "\n",
    "# Layer 2\n",
    "model.add(LSTM(units=number_units, return_sequences=True))\n",
    "model.add(Dropout(dropout_fraction))\n",
    "\n",
    "# Layer 3\n",
    "model.add(LSTM(units=number_units))\n",
    "model.add(Dropout(dropout_fraction))\n",
    "\n",
    "# Output layer\n",
    "model.add(Dense(1))"
   ]
  },
  {
   "cell_type": "code",
   "execution_count": 100,
   "metadata": {},
   "outputs": [],
   "source": [
    "# Compile the model\n",
    "model.compile(optimizer=\"adam\", loss=\"mean_squared_error\")"
   ]
  },
  {
   "cell_type": "code",
   "execution_count": 101,
   "metadata": {},
   "outputs": [
    {
     "name": "stdout",
     "output_type": "stream",
     "text": [
      "Model: \"sequential_5\"\n",
      "_________________________________________________________________\n",
      "Layer (type)                 Output Shape              Param #   \n",
      "=================================================================\n",
      "lstm_15 (LSTM)               (None, 3, 30)             3840      \n",
      "_________________________________________________________________\n",
      "dropout_15 (Dropout)         (None, 3, 30)             0         \n",
      "_________________________________________________________________\n",
      "lstm_16 (LSTM)               (None, 3, 30)             7320      \n",
      "_________________________________________________________________\n",
      "dropout_16 (Dropout)         (None, 3, 30)             0         \n",
      "_________________________________________________________________\n",
      "lstm_17 (LSTM)               (None, 30)                7320      \n",
      "_________________________________________________________________\n",
      "dropout_17 (Dropout)         (None, 30)                0         \n",
      "_________________________________________________________________\n",
      "dense_5 (Dense)              (None, 1)                 31        \n",
      "=================================================================\n",
      "Total params: 18,511\n",
      "Trainable params: 18,511\n",
      "Non-trainable params: 0\n",
      "_________________________________________________________________\n"
     ]
    }
   ],
   "source": [
    "# Summarize the model\n",
    "model.summary()"
   ]
  },
  {
   "cell_type": "code",
   "execution_count": 102,
   "metadata": {},
   "outputs": [
    {
     "name": "stdout",
     "output_type": "stream",
     "text": [
      "Epoch 1/20\n",
      "32/32 [==============================] - 0s 8ms/step - loss: 0.1956\n",
      "Epoch 2/20\n",
      "32/32 [==============================] - 0s 5ms/step - loss: 0.0268\n",
      "Epoch 3/20\n",
      "32/32 [==============================] - 0s 5ms/step - loss: 0.0222\n",
      "Epoch 4/20\n",
      "32/32 [==============================] - 0s 4ms/step - loss: 0.0242\n",
      "Epoch 5/20\n",
      "32/32 [==============================] - 0s 4ms/step - loss: 0.0238\n",
      "Epoch 6/20\n",
      "32/32 [==============================] - 0s 5ms/step - loss: 0.0226\n",
      "Epoch 7/20\n",
      "32/32 [==============================] - 0s 5ms/step - loss: 0.0235\n",
      "Epoch 8/20\n",
      "32/32 [==============================] - 0s 5ms/step - loss: 0.0200\n",
      "Epoch 9/20\n",
      "32/32 [==============================] - 0s 5ms/step - loss: 0.0208\n",
      "Epoch 10/20\n",
      "32/32 [==============================] - 0s 6ms/step - loss: 0.0217\n",
      "Epoch 11/20\n",
      "32/32 [==============================] - 0s 5ms/step - loss: 0.0218\n",
      "Epoch 12/20\n",
      "32/32 [==============================] - 0s 5ms/step - loss: 0.0209\n",
      "Epoch 13/20\n",
      "32/32 [==============================] - 0s 5ms/step - loss: 0.0197\n",
      "Epoch 14/20\n",
      "32/32 [==============================] - 0s 5ms/step - loss: 0.0209\n",
      "Epoch 15/20\n",
      "32/32 [==============================] - 0s 5ms/step - loss: 0.0214\n",
      "Epoch 16/20\n",
      "32/32 [==============================] - 0s 5ms/step - loss: 0.0229\n",
      "Epoch 17/20\n",
      "32/32 [==============================] - 0s 5ms/step - loss: 0.0216\n",
      "Epoch 18/20\n",
      "32/32 [==============================] - 0s 4ms/step - loss: 0.0200\n",
      "Epoch 19/20\n",
      "32/32 [==============================] - 0s 5ms/step - loss: 0.0228\n",
      "Epoch 20/20\n",
      "32/32 [==============================] - 0s 5ms/step - loss: 0.0222\n"
     ]
    },
    {
     "data": {
      "text/plain": [
       "<tensorflow.python.keras.callbacks.History at 0x7fa8d3e16090>"
      ]
     },
     "execution_count": 102,
     "metadata": {},
     "output_type": "execute_result"
    }
   ],
   "source": [
    "# Train the model\n",
    "\n",
    "model.fit(X_train, y_train, epochs=20, shuffle=False, batch_size=4, verbose=1)"
   ]
  },
  {
   "cell_type": "code",
   "execution_count": 103,
   "metadata": {},
   "outputs": [
    {
     "name": "stdout",
     "output_type": "stream",
     "text": [
      "2/2 [==============================] - 0s 1ms/step - loss: 0.0722\n"
     ]
    },
    {
     "data": {
      "text/plain": [
       "0.07219988107681274"
      ]
     },
     "execution_count": 103,
     "metadata": {},
     "output_type": "execute_result"
    }
   ],
   "source": [
    "# Evaluate the model\n",
    "model.evaluate(X_test, y_test, verbose=1)"
   ]
  },
  {
   "cell_type": "code",
   "execution_count": 104,
   "metadata": {},
   "outputs": [
    {
     "name": "stdout",
     "output_type": "stream",
     "text": [
      "WARNING:tensorflow:5 out of the last 11 calls to <function Model.make_predict_function.<locals>.predict_function at 0x7fa8e9f89830> triggered tf.function retracing. Tracing is expensive and the excessive number of tracings could be due to (1) creating @tf.function repeatedly in a loop, (2) passing tensors with different shapes, (3) passing Python objects instead of tensors. For (1), please define your @tf.function outside of the loop. For (2), @tf.function has experimental_relax_shapes=True option that relaxes argument shapes that can avoid unnecessary retracing. For (3), please refer to https://www.tensorflow.org/tutorials/customization/performance#python_or_tensor_args and https://www.tensorflow.org/api_docs/python/tf/function for  more details.\n"
     ]
    }
   ],
   "source": [
    "# Make predictions using the testing data X_test\n",
    "predicted = model.predict(X_test)"
   ]
  },
  {
   "cell_type": "code",
   "execution_count": 105,
   "metadata": {},
   "outputs": [],
   "source": [
    "# Recover the original prices instead of the scaled version\n",
    "predicted_prices = y_test_scaler.inverse_transform(predicted)\n",
    "real_prices = y_test_scaler.inverse_transform(y_test.reshape(-1, 1))"
   ]
  },
  {
   "cell_type": "code",
   "execution_count": 106,
   "metadata": {},
   "outputs": [
    {
     "data": {
      "text/html": [
       "<div>\n",
       "<style scoped>\n",
       "    .dataframe tbody tr th:only-of-type {\n",
       "        vertical-align: middle;\n",
       "    }\n",
       "\n",
       "    .dataframe tbody tr th {\n",
       "        vertical-align: top;\n",
       "    }\n",
       "\n",
       "    .dataframe thead th {\n",
       "        text-align: right;\n",
       "    }\n",
       "</style>\n",
       "<table border=\"1\" class=\"dataframe\">\n",
       "  <thead>\n",
       "    <tr style=\"text-align: right;\">\n",
       "      <th></th>\n",
       "      <th>Real</th>\n",
       "      <th>Predicted</th>\n",
       "    </tr>\n",
       "    <tr>\n",
       "      <th>Date</th>\n",
       "      <th></th>\n",
       "      <th></th>\n",
       "    </tr>\n",
       "  </thead>\n",
       "  <tbody>\n",
       "    <tr>\n",
       "      <th>2020-07-10</th>\n",
       "      <td>-0.405970</td>\n",
       "      <td>2.332736</td>\n",
       "    </tr>\n",
       "    <tr>\n",
       "      <th>2020-07-13</th>\n",
       "      <td>-0.389115</td>\n",
       "      <td>2.273741</td>\n",
       "    </tr>\n",
       "    <tr>\n",
       "      <th>2020-07-14</th>\n",
       "      <td>-0.967249</td>\n",
       "      <td>2.405090</td>\n",
       "    </tr>\n",
       "    <tr>\n",
       "      <th>2020-07-15</th>\n",
       "      <td>1.389925</td>\n",
       "      <td>2.249968</td>\n",
       "    </tr>\n",
       "    <tr>\n",
       "      <th>2020-07-16</th>\n",
       "      <td>7.447202</td>\n",
       "      <td>2.263069</td>\n",
       "    </tr>\n",
       "  </tbody>\n",
       "</table>\n",
       "</div>"
      ],
      "text/plain": [
       "                Real  Predicted\n",
       "Date                           \n",
       "2020-07-10 -0.405970   2.332736\n",
       "2020-07-13 -0.389115   2.273741\n",
       "2020-07-14 -0.967249   2.405090\n",
       "2020-07-15  1.389925   2.249968\n",
       "2020-07-16  7.447202   2.263069"
      ]
     },
     "execution_count": 106,
     "metadata": {},
     "output_type": "execute_result"
    }
   ],
   "source": [
    "# Create a DataFrame of Real and Predicted values\n",
    "stocks = pd.DataFrame({\n",
    "    \"Real\": real_prices.ravel(),\n",
    "    \"Predicted\": predicted_prices.ravel()\n",
    "}, index = azn_df.index[-len(real_prices): ]) \n",
    "stocks.head()"
   ]
  },
  {
   "cell_type": "code",
   "execution_count": 107,
   "metadata": {},
   "outputs": [
    {
     "data": {
      "text/plain": [
       "<matplotlib.axes._subplots.AxesSubplot at 0x7fa8db84af90>"
      ]
     },
     "execution_count": 107,
     "metadata": {},
     "output_type": "execute_result"
    },
    {
     "data": {
      "image/png": "[encoded data removed]",
      "text/plain": [
       "<Figure size 432x288 with 1 Axes>"
      ]
     },
     "metadata": {
      "needs_background": "light"
     },
     "output_type": "display_data"
    }
   ],
   "source": [
    "# Plot the real vs predicted values as a line chart\n",
    "# WINDOW 3, epochs 20, batch 3\n",
    "stocks.plot(title=\"LSTM performance on AZN stock returns\")\n",
    "#plt.savefig('./Images/LSTMmodel_AZN_stock_returns.png')\n"
   ]
  },
  {
   "cell_type": "code",
   "execution_count": null,
   "metadata": {},
   "outputs": [],
   "source": []
  }
 ],
 "metadata": {
  "kernelspec": {
   "display_name": "Python [conda env:dev] *",
   "language": "python",
   "name": "conda-env-dev-py"
  },
  "language_info": {
   "codemirror_mode": {
    "name": "ipython",
    "version": 3
   },
   "file_extension": ".py",
   "mimetype": "text/x-python",
   "name": "python",
   "nbconvert_exporter": "python",
   "pygments_lexer": "ipython3",
   "version": "3.7.7"
  }
 },
 "nbformat": 4,
 "nbformat_minor": 4
}
