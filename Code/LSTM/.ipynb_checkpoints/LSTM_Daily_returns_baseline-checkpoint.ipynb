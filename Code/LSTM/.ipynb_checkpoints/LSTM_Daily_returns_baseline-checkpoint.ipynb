{
 "cells": [
  {
   "cell_type": "markdown",
   "metadata": {},
   "source": [
    "# LSTM Stock Predictor Using Closing Prices\n",
    "\n",
    "In this notebook, a custom LSTM RNN model is built and trained that uses a 3 day window of closing prices of Pharcameutical companies to predict the 4th day closing price. \n",
    "\n",
    "Summary of steps:\n",
    "\n",
    "1. Prepare the data for training and testing\n",
    "2. Build and train a custom LSTM RNN\n",
    "3. Evaluate the performance of the model\n"
   ]
  },
  {
   "cell_type": "markdown",
   "metadata": {},
   "source": [
    "## 1. Data Preparation"
   ]
  },
  {
   "cell_type": "code",
   "execution_count": 4,
   "metadata": {},
   "outputs": [],
   "source": [
    "from sklearn.preprocessing import MinMaxScaler\n",
    "from tensorflow.keras.models import Sequential\n",
    "from sklearn.metrics import mean_squared_error\n",
    "from tensorflow.keras.layers import LSTM, Dense, Dropout"
   ]
  },
  {
   "cell_type": "code",
   "execution_count": 5,
   "metadata": {},
   "outputs": [],
   "source": [
    "# Set the random seed for reproducibility\n",
    "# Note: This is for the assignment, but it is good practice to comment this out and run multiple experiments to evaluate your model\n",
    "from numpy.random import seed\n",
    "seed(1)\n",
    "from tensorflow import random\n",
    "random.set_seed(2)"
   ]
  },
  {
   "cell_type": "code",
   "execution_count": 8,
   "metadata": {},
   "outputs": [
    {
     "data": {
      "text/html": [
       "<div>\n",
       "<style scoped>\n",
       "    .dataframe tbody tr th:only-of-type {\n",
       "        vertical-align: middle;\n",
       "    }\n",
       "\n",
       "    .dataframe tbody tr th {\n",
       "        vertical-align: top;\n",
       "    }\n",
       "\n",
       "    .dataframe thead th {\n",
       "        text-align: right;\n",
       "    }\n",
       "</style>\n",
       "<table border=\"1\" class=\"dataframe\">\n",
       "  <thead>\n",
       "    <tr style=\"text-align: right;\">\n",
       "      <th></th>\n",
       "      <th>Attributes</th>\n",
       "      <th>Volume</th>\n",
       "      <th>Volume.1</th>\n",
       "      <th>Volume.2</th>\n",
       "      <th>Adj Close</th>\n",
       "      <th>Adj Close.1</th>\n",
       "      <th>Adj Close.2</th>\n",
       "    </tr>\n",
       "  </thead>\n",
       "  <tbody>\n",
       "    <tr>\n",
       "      <th>0</th>\n",
       "      <td>Symbols</td>\n",
       "      <td>GSK</td>\n",
       "      <td>PFE</td>\n",
       "      <td>AZN</td>\n",
       "      <td>GSK</td>\n",
       "      <td>PFE</td>\n",
       "      <td>AZN</td>\n",
       "    </tr>\n",
       "    <tr>\n",
       "      <th>2</th>\n",
       "      <td>2018-01-02</td>\n",
       "      <td>9465500.0</td>\n",
       "      <td>16185800.0</td>\n",
       "      <td>6107400.0</td>\n",
       "      <td>32.10053253173828</td>\n",
       "      <td>32.92734146118164</td>\n",
       "      <td>31.99385643005371</td>\n",
       "    </tr>\n",
       "    <tr>\n",
       "      <th>3</th>\n",
       "      <td>2018-01-03</td>\n",
       "      <td>6600800.0</td>\n",
       "      <td>13456500.0</td>\n",
       "      <td>4195400.0</td>\n",
       "      <td>31.978849411010742</td>\n",
       "      <td>33.171302795410156</td>\n",
       "      <td>32.057151794433594</td>\n",
       "    </tr>\n",
       "    <tr>\n",
       "      <th>4</th>\n",
       "      <td>2018-01-04</td>\n",
       "      <td>5206400.0</td>\n",
       "      <td>12378100.0</td>\n",
       "      <td>3870900.0</td>\n",
       "      <td>32.03968811035156</td>\n",
       "      <td>33.24359893798828</td>\n",
       "      <td>32.10236740112305</td>\n",
       "    </tr>\n",
       "    <tr>\n",
       "      <th>5</th>\n",
       "      <td>2018-01-05</td>\n",
       "      <td>7250700.0</td>\n",
       "      <td>12492900.0</td>\n",
       "      <td>3336000.0</td>\n",
       "      <td>32.60468292236328</td>\n",
       "      <td>33.30685043334961</td>\n",
       "      <td>32.43695831298828</td>\n",
       "    </tr>\n",
       "  </tbody>\n",
       "</table>\n",
       "</div>"
      ],
      "text/plain": [
       "   Attributes     Volume    Volume.1   Volume.2           Adj Close  \\\n",
       "0     Symbols        GSK         PFE        AZN                 GSK   \n",
       "2  2018-01-02  9465500.0  16185800.0  6107400.0   32.10053253173828   \n",
       "3  2018-01-03  6600800.0  13456500.0  4195400.0  31.978849411010742   \n",
       "4  2018-01-04  5206400.0  12378100.0  3870900.0   32.03968811035156   \n",
       "5  2018-01-05  7250700.0  12492900.0  3336000.0   32.60468292236328   \n",
       "\n",
       "          Adj Close.1         Adj Close.2  \n",
       "0                 PFE                 AZN  \n",
       "2   32.92734146118164   31.99385643005371  \n",
       "3  33.171302795410156  32.057151794433594  \n",
       "4   33.24359893798828   32.10236740112305  \n",
       "5   33.30685043334961   32.43695831298828  "
      ]
     },
     "execution_count": 8,
     "metadata": {},
     "output_type": "execute_result"
    }
   ],
   "source": [
    "# Load the closing prices \n",
    "file_path = Path('../../Data/df.csv')\n",
    "df = pd.read_csv(file_path)\n",
    "df = df.drop([1])\n",
    "df.head()"
   ]
  },
  {
   "cell_type": "code",
   "execution_count": 11,
   "metadata": {},
   "outputs": [],
   "source": [
    "def construct_df(df, volume, adj_close):\n",
    "    r_df = pd.DataFrame({\"Volume\": df[volume], \"Adj Close\": df[adj_close],\n",
    "                      \"Date\": df[\"Attributes\"]})\n",
    "    r_df.drop([0], inplace=True)\n",
    "    r_df[\"Volume\"] = r_df[\"Volume\"].astype(float)\n",
    "    r_df[\"Adj Close\"] = r_df[\"Adj Close\"].astype(float)\n",
    "    r_df['Percent Change'] = r_df[\"Adj Close\"].pct_change() * 100\n",
    "    r_df[\"Date\"] = pd.to_datetime(r_df[\"Date\"])\n",
    "    r_df.drop(r_df.loc[r_df[\"Date\"] <'2020-01-01'].index, inplace=True)\n",
    "    r_df = r_df.set_index(\"Date\")\n",
    "    return r_df"
   ]
  },
  {
   "cell_type": "code",
   "execution_count": 12,
   "metadata": {},
   "outputs": [
    {
     "data": {
      "text/html": [
       "<div>\n",
       "<style scoped>\n",
       "    .dataframe tbody tr th:only-of-type {\n",
       "        vertical-align: middle;\n",
       "    }\n",
       "\n",
       "    .dataframe tbody tr th {\n",
       "        vertical-align: top;\n",
       "    }\n",
       "\n",
       "    .dataframe thead th {\n",
       "        text-align: right;\n",
       "    }\n",
       "</style>\n",
       "<table border=\"1\" class=\"dataframe\">\n",
       "  <thead>\n",
       "    <tr style=\"text-align: right;\">\n",
       "      <th></th>\n",
       "      <th>Volume</th>\n",
       "      <th>Adj Close</th>\n",
       "      <th>Percent Change</th>\n",
       "    </tr>\n",
       "    <tr>\n",
       "      <th>Date</th>\n",
       "      <th></th>\n",
       "      <th></th>\n",
       "      <th></th>\n",
       "    </tr>\n",
       "  </thead>\n",
       "  <tbody>\n",
       "    <tr>\n",
       "      <th>2020-01-02</th>\n",
       "      <td>2462400.0</td>\n",
       "      <td>45.229774</td>\n",
       "      <td>-0.148976</td>\n",
       "    </tr>\n",
       "    <tr>\n",
       "      <th>2020-01-03</th>\n",
       "      <td>2149100.0</td>\n",
       "      <td>44.805626</td>\n",
       "      <td>-0.937764</td>\n",
       "    </tr>\n",
       "    <tr>\n",
       "      <th>2020-01-06</th>\n",
       "      <td>2034500.0</td>\n",
       "      <td>44.824902</td>\n",
       "      <td>0.043021</td>\n",
       "    </tr>\n",
       "    <tr>\n",
       "      <th>2020-01-07</th>\n",
       "      <td>1718900.0</td>\n",
       "      <td>44.545349</td>\n",
       "      <td>-0.623654</td>\n",
       "    </tr>\n",
       "    <tr>\n",
       "      <th>2020-01-08</th>\n",
       "      <td>1766700.0</td>\n",
       "      <td>44.738148</td>\n",
       "      <td>0.432814</td>\n",
       "    </tr>\n",
       "  </tbody>\n",
       "</table>\n",
       "</div>"
      ],
      "text/plain": [
       "               Volume  Adj Close  Percent Change\n",
       "Date                                            \n",
       "2020-01-02  2462400.0  45.229774       -0.148976\n",
       "2020-01-03  2149100.0  44.805626       -0.937764\n",
       "2020-01-06  2034500.0  44.824902        0.043021\n",
       "2020-01-07  1718900.0  44.545349       -0.623654\n",
       "2020-01-08  1766700.0  44.738148        0.432814"
      ]
     },
     "execution_count": 12,
     "metadata": {},
     "output_type": "execute_result"
    }
   ],
   "source": [
    "# extract data for GSk and create a dataframe for GSk\n",
    "gsk_df_dr = construct_df(df, \"Volume\",\"Adj Close\")\n",
    "gsk_df_dr.head()"
   ]
  },
  {
   "cell_type": "code",
   "execution_count": 13,
   "metadata": {},
   "outputs": [
    {
     "data": {
      "text/html": [
       "<div>\n",
       "<style scoped>\n",
       "    .dataframe tbody tr th:only-of-type {\n",
       "        vertical-align: middle;\n",
       "    }\n",
       "\n",
       "    .dataframe tbody tr th {\n",
       "        vertical-align: top;\n",
       "    }\n",
       "\n",
       "    .dataframe thead th {\n",
       "        text-align: right;\n",
       "    }\n",
       "</style>\n",
       "<table border=\"1\" class=\"dataframe\">\n",
       "  <thead>\n",
       "    <tr style=\"text-align: right;\">\n",
       "      <th></th>\n",
       "      <th>Percent Change</th>\n",
       "    </tr>\n",
       "    <tr>\n",
       "      <th>Date</th>\n",
       "      <th></th>\n",
       "    </tr>\n",
       "  </thead>\n",
       "  <tbody>\n",
       "    <tr>\n",
       "      <th>2020-01-02</th>\n",
       "      <td>-0.148976</td>\n",
       "    </tr>\n",
       "    <tr>\n",
       "      <th>2020-01-03</th>\n",
       "      <td>-0.937764</td>\n",
       "    </tr>\n",
       "    <tr>\n",
       "      <th>2020-01-06</th>\n",
       "      <td>0.043021</td>\n",
       "    </tr>\n",
       "    <tr>\n",
       "      <th>2020-01-07</th>\n",
       "      <td>-0.623654</td>\n",
       "    </tr>\n",
       "    <tr>\n",
       "      <th>2020-01-08</th>\n",
       "      <td>0.432814</td>\n",
       "    </tr>\n",
       "  </tbody>\n",
       "</table>\n",
       "</div>"
      ],
      "text/plain": [
       "            Percent Change\n",
       "Date                      \n",
       "2020-01-02       -0.148976\n",
       "2020-01-03       -0.937764\n",
       "2020-01-06        0.043021\n",
       "2020-01-07       -0.623654\n",
       "2020-01-08        0.432814"
      ]
     },
     "execution_count": 13,
     "metadata": {},
     "output_type": "execute_result"
    }
   ],
   "source": [
    "gsk_df = gsk_df_dr.drop(columns=[\"Volume\", \"Adj Close\"])\n",
    "gsk_df.head()"
   ]
  },
  {
   "cell_type": "code",
   "execution_count": 14,
   "metadata": {},
   "outputs": [
    {
     "data": {
      "text/html": [
       "<div>\n",
       "<style scoped>\n",
       "    .dataframe tbody tr th:only-of-type {\n",
       "        vertical-align: middle;\n",
       "    }\n",
       "\n",
       "    .dataframe tbody tr th {\n",
       "        vertical-align: top;\n",
       "    }\n",
       "\n",
       "    .dataframe thead th {\n",
       "        text-align: right;\n",
       "    }\n",
       "</style>\n",
       "<table border=\"1\" class=\"dataframe\">\n",
       "  <thead>\n",
       "    <tr style=\"text-align: right;\">\n",
       "      <th></th>\n",
       "      <th>Percent Change</th>\n",
       "    </tr>\n",
       "    <tr>\n",
       "      <th>Date</th>\n",
       "      <th></th>\n",
       "    </tr>\n",
       "  </thead>\n",
       "  <tbody>\n",
       "    <tr>\n",
       "      <th>2020-01-02</th>\n",
       "      <td>-0.102085</td>\n",
       "    </tr>\n",
       "    <tr>\n",
       "      <th>2020-01-03</th>\n",
       "      <td>-0.536539</td>\n",
       "    </tr>\n",
       "    <tr>\n",
       "      <th>2020-01-06</th>\n",
       "      <td>-0.128443</td>\n",
       "    </tr>\n",
       "    <tr>\n",
       "      <th>2020-01-07</th>\n",
       "      <td>-0.334342</td>\n",
       "    </tr>\n",
       "    <tr>\n",
       "      <th>2020-01-08</th>\n",
       "      <td>0.799998</td>\n",
       "    </tr>\n",
       "  </tbody>\n",
       "</table>\n",
       "</div>"
      ],
      "text/plain": [
       "            Percent Change\n",
       "Date                      \n",
       "2020-01-02       -0.102085\n",
       "2020-01-03       -0.536539\n",
       "2020-01-06       -0.128443\n",
       "2020-01-07       -0.334342\n",
       "2020-01-08        0.799998"
      ]
     },
     "execution_count": 14,
     "metadata": {},
     "output_type": "execute_result"
    }
   ],
   "source": [
    "# extract data for PFE and create a dataframe for PFE\n",
    "pfe_df_dr = construct_df(df, \"Volume.1\",\"Adj Close.1\")\n",
    "pfe_df = pfe_df_dr.drop(columns=[\"Volume\", \"Adj Close\"])\n",
    "pfe_df.head()"
   ]
  },
  {
   "cell_type": "code",
   "execution_count": 15,
   "metadata": {},
   "outputs": [
    {
     "data": {
      "text/html": [
       "<div>\n",
       "<style scoped>\n",
       "    .dataframe tbody tr th:only-of-type {\n",
       "        vertical-align: middle;\n",
       "    }\n",
       "\n",
       "    .dataframe tbody tr th {\n",
       "        vertical-align: top;\n",
       "    }\n",
       "\n",
       "    .dataframe thead th {\n",
       "        text-align: right;\n",
       "    }\n",
       "</style>\n",
       "<table border=\"1\" class=\"dataframe\">\n",
       "  <thead>\n",
       "    <tr style=\"text-align: right;\">\n",
       "      <th></th>\n",
       "      <th>Percent Change</th>\n",
       "    </tr>\n",
       "    <tr>\n",
       "      <th>Date</th>\n",
       "      <th></th>\n",
       "    </tr>\n",
       "  </thead>\n",
       "  <tbody>\n",
       "    <tr>\n",
       "      <th>2020-01-02</th>\n",
       "      <td>1.062978</td>\n",
       "    </tr>\n",
       "    <tr>\n",
       "      <th>2020-01-03</th>\n",
       "      <td>-0.595353</td>\n",
       "    </tr>\n",
       "    <tr>\n",
       "      <th>2020-01-06</th>\n",
       "      <td>-0.419246</td>\n",
       "    </tr>\n",
       "    <tr>\n",
       "      <th>2020-01-07</th>\n",
       "      <td>0.380910</td>\n",
       "    </tr>\n",
       "    <tr>\n",
       "      <th>2020-01-08</th>\n",
       "      <td>-0.239660</td>\n",
       "    </tr>\n",
       "  </tbody>\n",
       "</table>\n",
       "</div>"
      ],
      "text/plain": [
       "            Percent Change\n",
       "Date                      \n",
       "2020-01-02        1.062978\n",
       "2020-01-03       -0.595353\n",
       "2020-01-06       -0.419246\n",
       "2020-01-07        0.380910\n",
       "2020-01-08       -0.239660"
      ]
     },
     "execution_count": 15,
     "metadata": {},
     "output_type": "execute_result"
    }
   ],
   "source": [
    "# extract data for AZN and create a dataframe for AZN\n",
    "azn_df_dr = construct_df(df, \"Volume.2\",\"Adj Close.2\")\n",
    "azn_df = azn_df_dr.drop(columns=[\"Volume\", \"Adj Close\"])\n",
    "azn_df.head()"
   ]
  },
  {
   "cell_type": "code",
   "execution_count": 16,
   "metadata": {},
   "outputs": [],
   "source": [
    "# This function accepts the column number for the features (X) and the target (y)\n",
    "# It chunks the data up with a rolling window of Xt-n to predict Xt\n",
    "# It returns a numpy array of X any y\n",
    "def window_data(df, window, feature_col_number, target_col_number):\n",
    "    X = []\n",
    "    y = []\n",
    "    for i in range(len(df) - window - 1):\n",
    "        features = df.iloc[i:(i + window), feature_col_number]\n",
    "        target = df.iloc[(i + window), target_col_number]\n",
    "        X.append(features)\n",
    "        y.append(target)\n",
    "    return np.array(X), np.array(y).reshape(-1, 1)"
   ]
  },
  {
   "cell_type": "markdown",
   "metadata": {},
   "source": [
    "## Predict closing Prices for PFE using LSTM"
   ]
  },
  {
   "cell_type": "code",
   "execution_count": 17,
   "metadata": {},
   "outputs": [],
   "source": [
    "\n",
    "# Predict Closing Prices using a 3 day window of previous closing prices\n",
    "# Then, experiment with window sizes anywhere from 1 to 10 and see how the model performance changes\n",
    "window_size = 3\n",
    "\n",
    "feature_column = 0\n",
    "target_column = 0\n",
    "X, y = window_data(pfe_df, window_size, feature_column, target_column)"
   ]
  },
  {
   "cell_type": "code",
   "execution_count": 18,
   "metadata": {},
   "outputs": [],
   "source": [
    "# Use 70% of the data for training and the remainder for testing\n",
    "split = int(0.7 * len(X))\n",
    "\n",
    "X_train = X[: split]\n",
    "X_test = X[split:]\n",
    "\n",
    "y_train = y[: split]\n",
    "y_test = y[split:]"
   ]
  },
  {
   "cell_type": "code",
   "execution_count": 19,
   "metadata": {},
   "outputs": [],
   "source": [
    "# Use the MinMaxScaler to scale data between 0 and 1.\n",
    "\n",
    "x_train_scaler = MinMaxScaler()\n",
    "x_test_scaler = MinMaxScaler()\n",
    "y_train_scaler = MinMaxScaler()\n",
    "y_test_scaler = MinMaxScaler()\n",
    "\n",
    "# Fit the scaler for the Training Data\n",
    "x_train_scaler.fit(X_train)\n",
    "y_train_scaler.fit(y_train)\n",
    "\n",
    "# Scale the training data\n",
    "X_train = x_train_scaler.transform(X_train)\n",
    "y_train = y_train_scaler.transform(y_train)\n",
    "\n",
    "# Fit the scaler for the Testing Data\n",
    "x_test_scaler.fit(X_test)\n",
    "y_test_scaler.fit(y_test)\n",
    "\n",
    "# Scale the y_test data\n",
    "X_test = x_test_scaler.transform(X_test)\n",
    "y_test = y_test_scaler.transform(y_test)\n"
   ]
  },
  {
   "cell_type": "code",
   "execution_count": 20,
   "metadata": {},
   "outputs": [
    {
     "name": "stdout",
     "output_type": "stream",
     "text": [
      "X_train sample values:\n",
      "[[[0.45716682]\n",
      "  [0.43114425]\n",
      "  [0.45558804]]\n",
      "\n",
      " [[0.43114425]\n",
      "  [0.45558804]\n",
      "  [0.44325525]]\n",
      "\n",
      " [[0.45558804]\n",
      "  [0.44325525]\n",
      "  [0.51119893]]] \n",
      "\n",
      "X_test sample values:\n",
      "[[[0.2063723 ]\n",
      "  [0.46821303]\n",
      "  [0.86441266]]\n",
      "\n",
      " [[0.46821303]\n",
      "  [0.86441266]\n",
      "  [0.32843548]]\n",
      "\n",
      " [[0.86441266]\n",
      "  [0.32843548]\n",
      "  [0.50619724]]]\n"
     ]
    }
   ],
   "source": [
    "# Reshape the features for the model\n",
    "X_train = X_train.reshape((X_train.shape[0], X_train.shape[1], 1))\n",
    "X_test = X_test.reshape((X_test.shape[0], X_test.shape[1], 1))\n",
    "\n",
    "# Print some sample data after reshaping the datasets\n",
    "print (f\"X_train sample values:\\n{X_train[:3]} \\n\")\n",
    "print (f\"X_test sample values:\\n{X_test[:3]}\")"
   ]
  },
  {
   "cell_type": "markdown",
   "metadata": {},
   "source": [
    "## Build and Train the LSTM RNN\n",
    "\n",
    "In this section, custom LSTM RNN is built and fit (trained) using the training data.\n",
    "\n",
    "1. Define the model architecture\n",
    "2. Compile the model\n",
    "3. Fit the model to the training data\n",
    "\n"
   ]
  },
  {
   "cell_type": "code",
   "execution_count": 21,
   "metadata": {},
   "outputs": [],
   "source": [
    "# Build the LSTM model. \n",
    "# The return sequences need to be set to True when adding additional LSTM layers, but \n",
    "# You don't have to do this for the final layer. \n",
    "# Note: The dropouts help prevent overfitting\n",
    "# Note: The input shape is the number of time steps and the number of indicators\n",
    "# Note: Batching inputs has a different input shape of Samples/TimeSteps/Features\n",
    "\n",
    "# Define the LSTM RNN model.\n",
    "model = Sequential()\n",
    "\n",
    "# Initial model setup\n",
    "number_units = 100\n",
    "dropout_fraction = 0\n",
    "\n",
    "# Layer 1\n",
    "model.add(LSTM(\n",
    "    units=number_units,\n",
    "    return_sequences=True,\n",
    "    input_shape=(X_train.shape[1], 1))\n",
    "    )\n",
    "model.add(Dropout(dropout_fraction))\n",
    "\n",
    "# Layer 2\n",
    "# model.add(LSTM(units=number_units, return_sequences=True))\n",
    "# model.add(Dropout(dropout_fraction))\n",
    "\n",
    "# # Layer 3\n",
    "model.add(LSTM(units=number_units))\n",
    "model.add(Dropout(dropout_fraction))\n",
    "\n",
    "# Output layer\n",
    "model.add(Dense(1))"
   ]
  },
  {
   "cell_type": "code",
   "execution_count": 22,
   "metadata": {},
   "outputs": [],
   "source": [
    "# Compile the model\n",
    "model.compile(optimizer=\"adam\", loss=\"mean_squared_error\")"
   ]
  },
  {
   "cell_type": "code",
   "execution_count": 23,
   "metadata": {},
   "outputs": [
    {
     "name": "stdout",
     "output_type": "stream",
     "text": [
      "Model: \"sequential\"\n",
      "_________________________________________________________________\n",
      "Layer (type)                 Output Shape              Param #   \n",
      "=================================================================\n",
      "lstm (LSTM)                  (None, 3, 100)            40800     \n",
      "_________________________________________________________________\n",
      "dropout (Dropout)            (None, 3, 100)            0         \n",
      "_________________________________________________________________\n",
      "lstm_1 (LSTM)                (None, 100)               80400     \n",
      "_________________________________________________________________\n",
      "dropout_1 (Dropout)          (None, 100)               0         \n",
      "_________________________________________________________________\n",
      "dense (Dense)                (None, 1)                 101       \n",
      "=================================================================\n",
      "Total params: 121,301\n",
      "Trainable params: 121,301\n",
      "Non-trainable params: 0\n",
      "_________________________________________________________________\n"
     ]
    }
   ],
   "source": [
    "# Summarize the model\n",
    "model.summary()"
   ]
  },
  {
   "cell_type": "code",
   "execution_count": 24,
   "metadata": {},
   "outputs": [
    {
     "name": "stdout",
     "output_type": "stream",
     "text": [
      "Epoch 1/20\n",
      "44/44 [==============================] - 0s 4ms/step - loss: 0.0593\n",
      "Epoch 2/20\n",
      "44/44 [==============================] - 0s 4ms/step - loss: 0.0291\n",
      "Epoch 3/20\n",
      "44/44 [==============================] - 0s 4ms/step - loss: 0.0281\n",
      "Epoch 4/20\n",
      "44/44 [==============================] - 0s 4ms/step - loss: 0.0281\n",
      "Epoch 5/20\n",
      "44/44 [==============================] - 0s 4ms/step - loss: 0.0280\n",
      "Epoch 6/20\n",
      "44/44 [==============================] - 0s 4ms/step - loss: 0.0279\n",
      "Epoch 7/20\n",
      "44/44 [==============================] - 0s 4ms/step - loss: 0.0277\n",
      "Epoch 8/20\n",
      "44/44 [==============================] - 0s 4ms/step - loss: 0.0276\n",
      "Epoch 9/20\n",
      "44/44 [==============================] - 0s 4ms/step - loss: 0.0275\n",
      "Epoch 10/20\n",
      "44/44 [==============================] - 0s 4ms/step - loss: 0.0274\n",
      "Epoch 11/20\n",
      "44/44 [==============================] - 0s 4ms/step - loss: 0.0273\n",
      "Epoch 12/20\n",
      "44/44 [==============================] - 0s 4ms/step - loss: 0.0272\n",
      "Epoch 13/20\n",
      "44/44 [==============================] - 0s 4ms/step - loss: 0.0271\n",
      "Epoch 14/20\n",
      "44/44 [==============================] - 0s 4ms/step - loss: 0.0270\n",
      "Epoch 15/20\n",
      "44/44 [==============================] - 0s 4ms/step - loss: 0.0270\n",
      "Epoch 16/20\n",
      "44/44 [==============================] - 0s 4ms/step - loss: 0.0269\n",
      "Epoch 17/20\n",
      "44/44 [==============================] - 0s 4ms/step - loss: 0.0268\n",
      "Epoch 18/20\n",
      "44/44 [==============================] - 0s 4ms/step - loss: 0.0268\n",
      "Epoch 19/20\n",
      "44/44 [==============================] - 0s 4ms/step - loss: 0.0267\n",
      "Epoch 20/20\n",
      "44/44 [==============================] - 0s 4ms/step - loss: 0.0266\n"
     ]
    },
    {
     "data": {
      "text/plain": [
       "<tensorflow.python.keras.callbacks.History at 0x7fd8176ee090>"
      ]
     },
     "execution_count": 24,
     "metadata": {},
     "output_type": "execute_result"
    }
   ],
   "source": [
    "# Train the model\n",
    "\n",
    "model.fit(X_train, y_train, epochs=20, shuffle=False, batch_size=3, verbose=1)"
   ]
  },
  {
   "cell_type": "markdown",
   "metadata": {},
   "source": [
    "## Model Performance\n",
    "\n",
    "In this section, evaluate the model using the test data. \n",
    "\n",
    "1. Evaluate the model using the `X_test` and `y_test` data.\n",
    "2. Use the X_test data to make predictions\n",
    "3. Create a DataFrame of Real (y_test) vs predicted values. \n",
    "4. Plot the Real vs predicted values as a line chart\n",
    "\n",
    "### Note\n",
    "Apply the `inverse_transform` function to the predicted and y_test values to recover the actual returns."
   ]
  },
  {
   "cell_type": "code",
   "execution_count": 25,
   "metadata": {},
   "outputs": [
    {
     "name": "stdout",
     "output_type": "stream",
     "text": [
      "2/2 [==============================] - 0s 1ms/step - loss: 0.0375\n"
     ]
    },
    {
     "data": {
      "text/plain": [
       "0.037461765110492706"
      ]
     },
     "execution_count": 25,
     "metadata": {},
     "output_type": "execute_result"
    }
   ],
   "source": [
    "# Evaluate the model\n",
    "model.evaluate(X_test, y_test, verbose=1)"
   ]
  },
  {
   "cell_type": "code",
   "execution_count": 26,
   "metadata": {},
   "outputs": [],
   "source": [
    "# Make predictions using the testing data X_test\n",
    "predicted = model.predict(X_test)"
   ]
  },
  {
   "cell_type": "code",
   "execution_count": 27,
   "metadata": {},
   "outputs": [],
   "source": [
    "# Recover the original returns instead of the scaled version\n",
    "predicted_prices = y_test_scaler.inverse_transform(predicted)\n",
    "real_prices = y_test_scaler.inverse_transform(y_test.reshape(-1, 1))"
   ]
  },
  {
   "cell_type": "code",
   "execution_count": 28,
   "metadata": {},
   "outputs": [
    {
     "name": "stdout",
     "output_type": "stream",
     "text": [
      ">expected=0.1, predicted=0.7\n",
      "Test RMSE: 0.639\n",
      ">expected=1.4, predicted=1.0\n",
      "Test RMSE: 0.400\n",
      ">expected=-0.3, predicted=1.1\n",
      "Test RMSE: 1.395\n",
      ">expected=1.8, predicted=0.8\n",
      "Test RMSE: 1.024\n",
      ">expected=0.7, predicted=0.8\n",
      "Test RMSE: 0.140\n",
      ">expected=0.5, predicted=0.8\n",
      "Test RMSE: 0.262\n",
      ">expected=5.1, predicted=0.9\n",
      "Test RMSE: 4.183\n",
      ">expected=-0.4, predicted=0.8\n",
      "Test RMSE: 1.180\n",
      ">expected=-2.0, predicted=1.0\n",
      "Test RMSE: 2.939\n",
      ">expected=-0.3, predicted=1.1\n",
      "Test RMSE: 1.464\n",
      ">expected=3.9, predicted=0.6\n",
      "Test RMSE: 3.328\n",
      ">expected=0.6, predicted=0.5\n",
      "Test RMSE: 0.072\n",
      ">expected=-0.4, predicted=0.9\n",
      "Test RMSE: 1.230\n",
      ">expected=-0.7, predicted=1.1\n",
      "Test RMSE: 1.753\n",
      ">expected=-0.3, predicted=0.8\n",
      "Test RMSE: 1.113\n",
      ">expected=0.1, predicted=0.7\n",
      "Test RMSE: 0.572\n",
      ">expected=0.2, predicted=0.7\n",
      "Test RMSE: 0.506\n",
      ">expected=-0.5, predicted=0.7\n",
      "Test RMSE: 1.179\n",
      ">expected=0.5, predicted=0.8\n",
      "Test RMSE: 0.283\n",
      ">expected=-0.2, predicted=0.7\n",
      "Test RMSE: 0.883\n",
      ">expected=-1.6, predicted=0.7\n",
      "Test RMSE: 2.280\n",
      ">expected=1.4, predicted=0.8\n",
      "Test RMSE: 0.654\n",
      ">expected=-0.4, predicted=0.6\n",
      "Test RMSE: 1.067\n",
      ">expected=-0.3, predicted=0.7\n",
      "Test RMSE: 0.953\n",
      ">expected=0.8, predicted=0.8\n",
      "Test RMSE: 0.078\n",
      ">expected=0.0, predicted=0.7\n",
      "Test RMSE: 0.659\n",
      ">expected=-0.3, predicted=0.7\n",
      "Test RMSE: 1.005\n",
      ">expected=1.2, predicted=0.8\n",
      "Test RMSE: 0.400\n",
      ">expected=0.4, predicted=0.7\n",
      "Test RMSE: 0.309\n",
      ">expected=-0.1, predicted=0.8\n",
      "Test RMSE: 0.867\n",
      ">expected=-1.1, predicted=0.9\n",
      "Test RMSE: 1.962\n",
      ">expected=-0.9, predicted=0.8\n",
      "Test RMSE: 1.708\n",
      ">expected=-0.5, predicted=0.7\n",
      "Test RMSE: 1.179\n",
      ">expected=0.1, predicted=0.6\n",
      "Test RMSE: 0.466\n",
      ">expected=-0.3, predicted=0.6\n",
      "Test RMSE: 0.948\n",
      ">expected=-2.4, predicted=0.7\n",
      "Test RMSE: 3.108\n",
      ">expected=0.9, predicted=0.7\n",
      "Test RMSE: 0.127\n",
      ">expected=-2.2, predicted=0.6\n",
      "Test RMSE: 2.748\n",
      ">expected=-0.1, predicted=0.6\n",
      "Test RMSE: 0.676\n",
      ">expected=-1.2, predicted=0.7\n",
      "Test RMSE: 1.899\n",
      ">expected=0.7, predicted=0.5\n",
      "Test RMSE: 0.153\n",
      ">expected=-1.5, predicted=0.7\n",
      "Test RMSE: 2.137\n",
      ">expected=1.2, predicted=0.7\n",
      "Test RMSE: 0.510\n",
      ">expected=2.6, predicted=0.7\n",
      "Test RMSE: 1.879\n",
      ">expected=-0.1, predicted=0.7\n",
      "Test RMSE: 0.789\n",
      ">expected=-0.5, predicted=0.9\n",
      "Test RMSE: 1.428\n",
      ">expected=0.1, predicted=0.9\n",
      "Test RMSE: 0.840\n",
      ">expected=-0.5, predicted=0.7\n",
      "Test RMSE: 1.219\n",
      ">expected=-1.7, predicted=0.7\n",
      "Test RMSE: 2.366\n",
      ">expected=0.6, predicted=0.7\n",
      "Test RMSE: 0.089\n",
      ">expected=-0.7, predicted=0.6\n",
      "Test RMSE: 1.304\n",
      ">expected=-0.7, predicted=0.6\n",
      "Test RMSE: 1.288\n",
      ">expected=0.8, predicted=0.8\n",
      "Test RMSE: 0.048\n",
      ">expected=0.9, predicted=0.6\n",
      "Test RMSE: 0.299\n",
      ">expected=-0.6, predicted=0.7\n",
      "Test RMSE: 1.316\n",
      ">expected=1.5, predicted=0.8\n",
      "Test RMSE: 0.619\n"
     ]
    }
   ],
   "source": [
    "for pred_y, test_y in zip(predicted_prices, real_prices):\n",
    "        print('>expected=%.1f, predicted=%.1f' % (test_y, pred_y))\n",
    "        rmse = sqrt(mean_squared_error(test_y, pred_y))\n",
    "        print('Test RMSE: %.3f' % rmse)"
   ]
  },
  {
   "cell_type": "code",
   "execution_count": 29,
   "metadata": {},
   "outputs": [
    {
     "data": {
      "text/html": [
       "<div>\n",
       "<style scoped>\n",
       "    .dataframe tbody tr th:only-of-type {\n",
       "        vertical-align: middle;\n",
       "    }\n",
       "\n",
       "    .dataframe tbody tr th {\n",
       "        vertical-align: top;\n",
       "    }\n",
       "\n",
       "    .dataframe thead th {\n",
       "        text-align: right;\n",
       "    }\n",
       "</style>\n",
       "<table border=\"1\" class=\"dataframe\">\n",
       "  <thead>\n",
       "    <tr style=\"text-align: right;\">\n",
       "      <th></th>\n",
       "      <th>Real</th>\n",
       "      <th>Predicted</th>\n",
       "    </tr>\n",
       "    <tr>\n",
       "      <th>Date</th>\n",
       "      <th></th>\n",
       "      <th></th>\n",
       "    </tr>\n",
       "  </thead>\n",
       "  <tbody>\n",
       "    <tr>\n",
       "      <th>2020-07-15</th>\n",
       "      <td>0.056801</td>\n",
       "      <td>0.695364</td>\n",
       "    </tr>\n",
       "    <tr>\n",
       "      <th>2020-07-16</th>\n",
       "      <td>1.390868</td>\n",
       "      <td>0.990400</td>\n",
       "    </tr>\n",
       "    <tr>\n",
       "      <th>2020-07-17</th>\n",
       "      <td>-0.335948</td>\n",
       "      <td>1.058695</td>\n",
       "    </tr>\n",
       "    <tr>\n",
       "      <th>2020-07-20</th>\n",
       "      <td>1.825839</td>\n",
       "      <td>0.801611</td>\n",
       "    </tr>\n",
       "    <tr>\n",
       "      <th>2020-07-21</th>\n",
       "      <td>0.689659</td>\n",
       "      <td>0.830024</td>\n",
       "    </tr>\n",
       "  </tbody>\n",
       "</table>\n",
       "</div>"
      ],
      "text/plain": [
       "                Real  Predicted\n",
       "Date                           \n",
       "2020-07-15  0.056801   0.695364\n",
       "2020-07-16  1.390868   0.990400\n",
       "2020-07-17 -0.335948   1.058695\n",
       "2020-07-20  1.825839   0.801611\n",
       "2020-07-21  0.689659   0.830024"
      ]
     },
     "execution_count": 29,
     "metadata": {},
     "output_type": "execute_result"
    }
   ],
   "source": [
    "# Create a DataFrame of Real and Predicted values\n",
    "stocks = pd.DataFrame({\n",
    "    \"Real\": real_prices.ravel(),\n",
    "    \"Predicted\": predicted_prices.ravel()\n",
    "}, index = pfe_df.index[-len(real_prices): ]) \n",
    "stocks.head()"
   ]
  },
  {
   "cell_type": "code",
   "execution_count": 32,
   "metadata": {},
   "outputs": [
    {
     "data": {
      "image/png": "[encoded data removed]",
      "text/plain": [
       "<Figure size 432x288 with 1 Axes>"
      ]
     },
     "metadata": {
      "needs_background": "light"
     },
     "output_type": "display_data"
    }
   ],
   "source": [
    "# Plot the real vs predicted values as a line chart\n",
    "\n",
    "stocks.plot(title=\"LSTM performance on PFE stock returns\")\n",
    "plt.savefig('../../Images/LSTMmodel_PFE_stock_returns.png')"
   ]
  },
  {
   "cell_type": "markdown",
   "metadata": {},
   "source": [
    "## Predict Closing prices for GSK using LSTM"
   ]
  },
  {
   "cell_type": "code",
   "execution_count": 33,
   "metadata": {},
   "outputs": [],
   "source": [
    "###GSK###########\n",
    "# Predict Closing Prices using a 3 day window of previous closing prices\n",
    "# Then, experiment with window sizes anywhere from 1 to 10 and see how the model performance changes\n",
    "window_size = 3\n",
    "\n",
    "feature_column = 0\n",
    "target_column = 0\n",
    "X, y = window_data(gsk_df, window_size, feature_column, target_column)"
   ]
  },
  {
   "cell_type": "code",
   "execution_count": 34,
   "metadata": {},
   "outputs": [],
   "source": [
    "# Use 70% of the data for training and the remaineder for testing\n",
    "split = int(0.7 * len(X))\n",
    "\n",
    "X_train = X[: split]\n",
    "X_test = X[split:]\n",
    "\n",
    "y_train = y[: split]\n",
    "y_test = y[split:]"
   ]
  },
  {
   "cell_type": "code",
   "execution_count": 35,
   "metadata": {},
   "outputs": [],
   "source": [
    "# Use the MinMaxScaler to scale data between 0 and 1.\n",
    "\n",
    "x_train_scaler = MinMaxScaler()\n",
    "x_test_scaler = MinMaxScaler()\n",
    "y_train_scaler = MinMaxScaler()\n",
    "y_test_scaler = MinMaxScaler()\n",
    "\n",
    "# Fit the scaler for the Training Data\n",
    "x_train_scaler.fit(X_train)\n",
    "y_train_scaler.fit(y_train)\n",
    "\n",
    "# Scale the training data\n",
    "X_train = x_train_scaler.transform(X_train)\n",
    "y_train = y_train_scaler.transform(y_train)\n",
    "\n",
    "# Fit the scaler for the Testing Data\n",
    "x_test_scaler.fit(X_test)\n",
    "y_test_scaler.fit(y_test)\n",
    "\n",
    "# Scale the y_test data\n",
    "X_test = x_test_scaler.transform(X_test)\n",
    "y_test = y_test_scaler.transform(y_test)"
   ]
  },
  {
   "cell_type": "code",
   "execution_count": 36,
   "metadata": {},
   "outputs": [
    {
     "name": "stdout",
     "output_type": "stream",
     "text": [
      "X_train sample values:\n",
      "[[[0.53175077]\n",
      "  [0.49325117]\n",
      "  [0.54112184]]\n",
      "\n",
      " [[0.49325117]\n",
      "  [0.54112184]\n",
      "  [0.5085824 ]]\n",
      "\n",
      " [[0.54112184]\n",
      "  [0.5085824 ]\n",
      "  [0.5601471 ]]] \n",
      "\n",
      "X_test sample values:\n",
      "[[[0.31164086]\n",
      "  [0.26715912]\n",
      "  [0.5352448 ]]\n",
      "\n",
      " [[0.26715912]\n",
      "  [0.5352448 ]\n",
      "  [0.73911064]]\n",
      "\n",
      " [[0.5352448 ]\n",
      "  [0.73911064]\n",
      "  [1.        ]]]\n"
     ]
    }
   ],
   "source": [
    "# Reshape the features for the model\n",
    "X_train = X_train.reshape((X_train.shape[0], X_train.shape[1], 1))\n",
    "X_test = X_test.reshape((X_test.shape[0], X_test.shape[1], 1))\n",
    "\n",
    "# Print some sample data after reshaping the datasets\n",
    "print (f\"X_train sample values:\\n{X_train[:3]} \\n\")\n",
    "print (f\"X_test sample values:\\n{X_test[:3]}\")"
   ]
  },
  {
   "cell_type": "code",
   "execution_count": 37,
   "metadata": {},
   "outputs": [],
   "source": [
    "# Build the LSTM model. \n",
    "\n",
    "# Define the LSTM RNN model.\n",
    "model = Sequential()\n",
    "\n",
    "# Initial model setup\n",
    "number_units = 30\n",
    "dropout_fraction = 0.2\n",
    "\n",
    "# Layer 1\n",
    "model.add(LSTM(\n",
    "    units=number_units,\n",
    "    return_sequences=True,\n",
    "    input_shape=(X_train.shape[1], 1))\n",
    "    )\n",
    "model.add(Dropout(dropout_fraction))\n",
    "\n",
    "# Layer 2\n",
    "model.add(LSTM(units=number_units, return_sequences=True))\n",
    "model.add(Dropout(dropout_fraction))\n",
    "\n",
    "# Layer 3\n",
    "model.add(LSTM(units=number_units))\n",
    "model.add(Dropout(dropout_fraction))\n",
    "\n",
    "# Output layer\n",
    "model.add(Dense(1))"
   ]
  },
  {
   "cell_type": "code",
   "execution_count": 38,
   "metadata": {},
   "outputs": [],
   "source": [
    "# Compile the model\n",
    "model.compile(optimizer=\"adam\", loss=\"mean_squared_error\")"
   ]
  },
  {
   "cell_type": "code",
   "execution_count": 39,
   "metadata": {},
   "outputs": [
    {
     "name": "stdout",
     "output_type": "stream",
     "text": [
      "Model: \"sequential_1\"\n",
      "_________________________________________________________________\n",
      "Layer (type)                 Output Shape              Param #   \n",
      "=================================================================\n",
      "lstm_2 (LSTM)                (None, 3, 30)             3840      \n",
      "_________________________________________________________________\n",
      "dropout_2 (Dropout)          (None, 3, 30)             0         \n",
      "_________________________________________________________________\n",
      "lstm_3 (LSTM)                (None, 3, 30)             7320      \n",
      "_________________________________________________________________\n",
      "dropout_3 (Dropout)          (None, 3, 30)             0         \n",
      "_________________________________________________________________\n",
      "lstm_4 (LSTM)                (None, 30)                7320      \n",
      "_________________________________________________________________\n",
      "dropout_4 (Dropout)          (None, 30)                0         \n",
      "_________________________________________________________________\n",
      "dense_1 (Dense)              (None, 1)                 31        \n",
      "=================================================================\n",
      "Total params: 18,511\n",
      "Trainable params: 18,511\n",
      "Non-trainable params: 0\n",
      "_________________________________________________________________\n"
     ]
    }
   ],
   "source": [
    "# Summarize the model\n",
    "model.summary()"
   ]
  },
  {
   "cell_type": "code",
   "execution_count": 40,
   "metadata": {},
   "outputs": [
    {
     "name": "stdout",
     "output_type": "stream",
     "text": [
      "Epoch 1/20\n",
      "44/44 [==============================] - 0s 7ms/step - loss: 0.1333\n",
      "Epoch 2/20\n",
      "44/44 [==============================] - 0s 5ms/step - loss: 0.0218\n",
      "Epoch 3/20\n",
      "44/44 [==============================] - 0s 5ms/step - loss: 0.0170\n",
      "Epoch 4/20\n",
      "44/44 [==============================] - 0s 5ms/step - loss: 0.0192\n",
      "Epoch 5/20\n",
      "44/44 [==============================] - 0s 5ms/step - loss: 0.0205\n",
      "Epoch 6/20\n",
      "44/44 [==============================] - 0s 5ms/step - loss: 0.0184\n",
      "Epoch 7/20\n",
      "44/44 [==============================] - 0s 5ms/step - loss: 0.0178\n",
      "Epoch 8/20\n",
      "44/44 [==============================] - 0s 5ms/step - loss: 0.0205\n",
      "Epoch 9/20\n",
      "44/44 [==============================] - 0s 5ms/step - loss: 0.0193\n",
      "Epoch 10/20\n",
      "44/44 [==============================] - 0s 5ms/step - loss: 0.0161\n",
      "Epoch 11/20\n",
      "44/44 [==============================] - 0s 6ms/step - loss: 0.0175\n",
      "Epoch 12/20\n",
      "44/44 [==============================] - 0s 5ms/step - loss: 0.0181\n",
      "Epoch 13/20\n",
      "44/44 [==============================] - 0s 5ms/step - loss: 0.0194\n",
      "Epoch 14/20\n",
      "44/44 [==============================] - 0s 5ms/step - loss: 0.0177\n",
      "Epoch 15/20\n",
      "44/44 [==============================] - 0s 5ms/step - loss: 0.0188\n",
      "Epoch 16/20\n",
      "44/44 [==============================] - 0s 5ms/step - loss: 0.0175\n",
      "Epoch 17/20\n",
      "44/44 [==============================] - 0s 6ms/step - loss: 0.0161\n",
      "Epoch 18/20\n",
      "44/44 [==============================] - 0s 5ms/step - loss: 0.0170\n",
      "Epoch 19/20\n",
      "44/44 [==============================] - 0s 5ms/step - loss: 0.0174\n",
      "Epoch 20/20\n",
      "44/44 [==============================] - 0s 6ms/step - loss: 0.0182\n"
     ]
    },
    {
     "data": {
      "text/plain": [
       "<tensorflow.python.keras.callbacks.History at 0x7fd81f34e1d0>"
      ]
     },
     "execution_count": 40,
     "metadata": {},
     "output_type": "execute_result"
    }
   ],
   "source": [
    "# Train the model\n",
    "\n",
    "model.fit(X_train, y_train, epochs=20, shuffle=False, batch_size=3, verbose=1)"
   ]
  },
  {
   "cell_type": "code",
   "execution_count": 41,
   "metadata": {},
   "outputs": [
    {
     "name": "stdout",
     "output_type": "stream",
     "text": [
      "2/2 [==============================] - 0s 2ms/step - loss: 0.0544\n"
     ]
    },
    {
     "data": {
      "text/plain": [
       "0.05438428744673729"
      ]
     },
     "execution_count": 41,
     "metadata": {},
     "output_type": "execute_result"
    }
   ],
   "source": [
    "# Evaluate the model\n",
    "model.evaluate(X_test, y_test, verbose=1)"
   ]
  },
  {
   "cell_type": "code",
   "execution_count": 42,
   "metadata": {},
   "outputs": [],
   "source": [
    "# Make predictions using the testing data X_test\n",
    "predicted = model.predict(X_test)"
   ]
  },
  {
   "cell_type": "code",
   "execution_count": 43,
   "metadata": {},
   "outputs": [],
   "source": [
    "# Recover the original prices instead of the scaled version\n",
    "predicted_prices = y_test_scaler.inverse_transform(predicted)\n",
    "real_prices = y_test_scaler.inverse_transform(y_test.reshape(-1, 1))"
   ]
  },
  {
   "cell_type": "code",
   "execution_count": 44,
   "metadata": {},
   "outputs": [
    {
     "name": "stdout",
     "output_type": "stream",
     "text": [
      ">expected=1.6, predicted=0.3\n",
      "Test RMSE: 1.286\n",
      ">expected=3.1, predicted=0.3\n",
      "Test RMSE: 2.735\n",
      ">expected=-1.1, predicted=0.5\n",
      "Test RMSE: 1.577\n",
      ">expected=0.8, predicted=0.5\n",
      "Test RMSE: 0.252\n",
      ">expected=-0.6, predicted=0.5\n",
      "Test RMSE: 1.091\n",
      ">expected=-0.0, predicted=0.3\n",
      "Test RMSE: 0.349\n",
      ">expected=-1.0, predicted=0.4\n",
      "Test RMSE: 1.358\n",
      ">expected=-2.1, predicted=0.3\n",
      "Test RMSE: 2.437\n",
      ">expected=-0.0, predicted=0.3\n",
      "Test RMSE: 0.335\n",
      ">expected=1.5, predicted=0.2\n",
      "Test RMSE: 1.220\n",
      ">expected=1.0, predicted=0.3\n",
      "Test RMSE: 0.762\n",
      ">expected=-1.7, predicted=0.4\n",
      "Test RMSE: 2.147\n",
      ">expected=-0.8, predicted=0.5\n",
      "Test RMSE: 1.302\n",
      ">expected=0.2, predicted=0.4\n",
      "Test RMSE: 0.188\n",
      ">expected=2.4, predicted=0.2\n",
      "Test RMSE: 2.160\n",
      ">expected=-0.1, predicted=0.4\n",
      "Test RMSE: 0.478\n",
      ">expected=-0.1, predicted=0.5\n",
      "Test RMSE: 0.528\n",
      ">expected=-0.6, predicted=0.5\n",
      "Test RMSE: 1.083\n",
      ">expected=-0.4, predicted=0.4\n",
      "Test RMSE: 0.792\n",
      ">expected=0.4, predicted=0.3\n",
      "Test RMSE: 0.027\n",
      ">expected=0.9, predicted=0.3\n",
      "Test RMSE: 0.529\n",
      ">expected=2.1, predicted=0.4\n",
      "Test RMSE: 1.740\n",
      ">expected=-1.1, predicted=0.4\n",
      "Test RMSE: 1.593\n",
      ">expected=-1.6, predicted=0.5\n",
      "Test RMSE: 2.025\n",
      ">expected=1.4, predicted=0.4\n",
      "Test RMSE: 0.998\n",
      ">expected=-0.1, predicted=0.3\n",
      "Test RMSE: 0.368\n",
      ">expected=-0.9, predicted=0.3\n",
      "Test RMSE: 1.177\n",
      ">expected=-0.4, predicted=0.4\n",
      "Test RMSE: 0.805\n",
      ">expected=-0.9, predicted=0.3\n",
      "Test RMSE: 1.268\n",
      ">expected=0.1, predicted=0.3\n",
      "Test RMSE: 0.222\n",
      ">expected=-0.2, predicted=0.3\n",
      "Test RMSE: 0.567\n",
      ">expected=0.2, predicted=0.3\n",
      "Test RMSE: 0.141\n",
      ">expected=-1.1, predicted=0.4\n",
      "Test RMSE: 1.512\n",
      ">expected=-0.4, predicted=0.3\n",
      "Test RMSE: 0.724\n",
      ">expected=0.0, predicted=0.3\n",
      "Test RMSE: 0.338\n",
      ">expected=-1.6, predicted=0.3\n",
      "Test RMSE: 1.908\n",
      ">expected=2.4, predicted=0.3\n",
      "Test RMSE: 2.085\n",
      ">expected=-2.2, predicted=0.3\n",
      "Test RMSE: 2.577\n",
      ">expected=-1.4, predicted=0.3\n",
      "Test RMSE: 1.711\n",
      ">expected=1.3, predicted=0.4\n",
      "Test RMSE: 0.883\n",
      ">expected=2.0, predicted=0.2\n",
      "Test RMSE: 1.790\n",
      ">expected=-2.5, predicted=0.4\n",
      "Test RMSE: 2.822\n",
      ">expected=0.9, predicted=0.5\n",
      "Test RMSE: 0.400\n",
      ">expected=-0.1, predicted=0.4\n",
      "Test RMSE: 0.490\n",
      ">expected=0.5, predicted=0.3\n",
      "Test RMSE: 0.231\n",
      ">expected=0.4, predicted=0.4\n",
      "Test RMSE: 0.041\n",
      ">expected=0.1, predicted=0.4\n",
      "Test RMSE: 0.259\n",
      ">expected=-0.5, predicted=0.4\n",
      "Test RMSE: 0.943\n",
      ">expected=-2.7, predicted=0.4\n",
      "Test RMSE: 3.063\n",
      ">expected=-0.5, predicted=0.3\n",
      "Test RMSE: 0.876\n",
      ">expected=-0.6, predicted=0.2\n",
      "Test RMSE: 0.797\n",
      ">expected=-1.1, predicted=0.2\n",
      "Test RMSE: 1.275\n",
      ">expected=1.1, predicted=0.3\n",
      "Test RMSE: 0.817\n",
      ">expected=0.2, predicted=0.3\n",
      "Test RMSE: 0.158\n",
      ">expected=-1.1, predicted=0.3\n",
      "Test RMSE: 1.481\n",
      ">expected=0.6, predicted=0.4\n",
      "Test RMSE: 0.136\n"
     ]
    }
   ],
   "source": [
    "for pred_y, test_y in zip(predicted_prices, real_prices):\n",
    "        print('>expected=%.1f, predicted=%.1f' % (test_y, pred_y))\n",
    "        rmse = sqrt(mean_squared_error(test_y, pred_y))\n",
    "        print('Test RMSE: %.3f' % rmse)"
   ]
  },
  {
   "cell_type": "code",
   "execution_count": 45,
   "metadata": {},
   "outputs": [
    {
     "data": {
      "text/html": [
       "<div>\n",
       "<style scoped>\n",
       "    .dataframe tbody tr th:only-of-type {\n",
       "        vertical-align: middle;\n",
       "    }\n",
       "\n",
       "    .dataframe tbody tr th {\n",
       "        vertical-align: top;\n",
       "    }\n",
       "\n",
       "    .dataframe thead th {\n",
       "        text-align: right;\n",
       "    }\n",
       "</style>\n",
       "<table border=\"1\" class=\"dataframe\">\n",
       "  <thead>\n",
       "    <tr style=\"text-align: right;\">\n",
       "      <th></th>\n",
       "      <th>Real</th>\n",
       "      <th>Predicted</th>\n",
       "    </tr>\n",
       "    <tr>\n",
       "      <th>Date</th>\n",
       "      <th></th>\n",
       "      <th></th>\n",
       "    </tr>\n",
       "  </thead>\n",
       "  <tbody>\n",
       "    <tr>\n",
       "      <th>2020-07-15</th>\n",
       "      <td>1.572255</td>\n",
       "      <td>0.286520</td>\n",
       "    </tr>\n",
       "    <tr>\n",
       "      <th>2020-07-16</th>\n",
       "      <td>3.071255</td>\n",
       "      <td>0.336342</td>\n",
       "    </tr>\n",
       "    <tr>\n",
       "      <th>2020-07-17</th>\n",
       "      <td>-1.096545</td>\n",
       "      <td>0.480254</td>\n",
       "    </tr>\n",
       "    <tr>\n",
       "      <th>2020-07-20</th>\n",
       "      <td>0.795372</td>\n",
       "      <td>0.543222</td>\n",
       "    </tr>\n",
       "    <tr>\n",
       "      <th>2020-07-21</th>\n",
       "      <td>-0.573889</td>\n",
       "      <td>0.517206</td>\n",
       "    </tr>\n",
       "  </tbody>\n",
       "</table>\n",
       "</div>"
      ],
      "text/plain": [
       "                Real  Predicted\n",
       "Date                           \n",
       "2020-07-15  1.572255   0.286520\n",
       "2020-07-16  3.071255   0.336342\n",
       "2020-07-17 -1.096545   0.480254\n",
       "2020-07-20  0.795372   0.543222\n",
       "2020-07-21 -0.573889   0.517206"
      ]
     },
     "execution_count": 45,
     "metadata": {},
     "output_type": "execute_result"
    }
   ],
   "source": [
    "# Create a DataFrame of Real and Predicted values\n",
    "stocks = pd.DataFrame({\n",
    "    \"Real\": real_prices.ravel(),\n",
    "    \"Predicted\": predicted_prices.ravel()\n",
    "}, index = gsk_df.index[-len(real_prices): ]) \n",
    "stocks.head()"
   ]
  },
  {
   "cell_type": "code",
   "execution_count": 47,
   "metadata": {},
   "outputs": [
    {
     "data": {
      "image/png": "[encoded data removed]",
      "text/plain": [
       "<Figure size 432x288 with 1 Axes>"
      ]
     },
     "metadata": {
      "needs_background": "light"
     },
     "output_type": "display_data"
    }
   ],
   "source": [
    "# Plot the real vs predicted values as a line chart\n",
    "# WINDOW 3, epochs 20, batch 4\n",
    "stocks.plot(title=\"LSTM performance on GSK stock returns\")\n",
    "plt.savefig('../../Images/LSTMmodel_GSK_stock_returns.png')"
   ]
  },
  {
   "cell_type": "markdown",
   "metadata": {},
   "source": [
    "## Predict Closing prices for AZN using LSTM"
   ]
  },
  {
   "cell_type": "code",
   "execution_count": 48,
   "metadata": {},
   "outputs": [],
   "source": [
    "###AZN###########\n",
    "# Predict Closing Prices using a 3 day window of previous closing prices\n",
    "# Then, experiment with window sizes anywhere from 1 to 10 and see how the model performance changes\n",
    "window_size = 3\n",
    "\n",
    "feature_column = 0\n",
    "target_column = 0\n",
    "X, y = window_data(azn_df, window_size, feature_column, target_column)"
   ]
  },
  {
   "cell_type": "code",
   "execution_count": 49,
   "metadata": {},
   "outputs": [],
   "source": [
    "# Use 70% of the data for training and the remaineder for testing\n",
    "split = int(0.7 * len(X))\n",
    "\n",
    "X_train = X[: split]\n",
    "X_test = X[split:]\n",
    "\n",
    "y_train = y[: split]\n",
    "y_test = y[split:]"
   ]
  },
  {
   "cell_type": "code",
   "execution_count": 50,
   "metadata": {},
   "outputs": [],
   "source": [
    "# Use the MinMaxScaler to scale data between 0 and 1.\n",
    "\n",
    "x_train_scaler = MinMaxScaler()\n",
    "x_test_scaler = MinMaxScaler()\n",
    "y_train_scaler = MinMaxScaler()\n",
    "y_test_scaler = MinMaxScaler()\n",
    "\n",
    "# Fit the scaler for the Training Data\n",
    "x_train_scaler.fit(X_train)\n",
    "y_train_scaler.fit(y_train)\n",
    "\n",
    "# Scale the training data\n",
    "X_train = x_train_scaler.transform(X_train)\n",
    "y_train = y_train_scaler.transform(y_train)\n",
    "\n",
    "# Fit the scaler for the Testing Data\n",
    "x_test_scaler.fit(X_test)\n",
    "y_test_scaler.fit(y_test)\n",
    "\n",
    "# Scale the y_test data\n",
    "X_test = x_test_scaler.transform(X_test)\n",
    "y_test = y_test_scaler.transform(y_test)"
   ]
  },
  {
   "cell_type": "code",
   "execution_count": 51,
   "metadata": {},
   "outputs": [
    {
     "name": "stdout",
     "output_type": "stream",
     "text": [
      "X_train sample values:\n",
      "[[[0.61719084]\n",
      "  [0.52958172]\n",
      "  [0.53888543]]\n",
      "\n",
      " [[0.52958172]\n",
      "  [0.53888543]\n",
      "  [0.58115739]]\n",
      "\n",
      " [[0.53888543]\n",
      "  [0.58115739]\n",
      "  [0.54837287]]] \n",
      "\n",
      "X_test sample values:\n",
      "[[[0.31160322]\n",
      "  [0.31308071]\n",
      "  [0.26240234]]\n",
      "\n",
      " [[0.31308071]\n",
      "  [0.26240234]\n",
      "  [0.46902852]]\n",
      "\n",
      " [[0.26240234]\n",
      "  [0.46902852]\n",
      "  [1.        ]]]\n"
     ]
    }
   ],
   "source": [
    "# Reshape the features for the model\n",
    "X_train = X_train.reshape((X_train.shape[0], X_train.shape[1], 1))\n",
    "X_test = X_test.reshape((X_test.shape[0], X_test.shape[1], 1))\n",
    "\n",
    "# Print some sample data after reshaping the datasets\n",
    "print (f\"X_train sample values:\\n{X_train[:3]} \\n\")\n",
    "print (f\"X_test sample values:\\n{X_test[:3]}\")"
   ]
  },
  {
   "cell_type": "code",
   "execution_count": 52,
   "metadata": {},
   "outputs": [],
   "source": [
    "# Build the LSTM model. \n",
    "\n",
    "# Define the LSTM RNN model.\n",
    "model = Sequential()\n",
    "\n",
    "# Initial model setup\n",
    "number_units = 30\n",
    "dropout_fraction = 0.2\n",
    "\n",
    "# Layer 1\n",
    "model.add(LSTM(\n",
    "    units=number_units,\n",
    "    return_sequences=True,\n",
    "    input_shape=(X_train.shape[1], 1))\n",
    "    )\n",
    "model.add(Dropout(dropout_fraction))\n",
    "\n",
    "# Layer 2\n",
    "model.add(LSTM(units=number_units, return_sequences=True))\n",
    "model.add(Dropout(dropout_fraction))\n",
    "\n",
    "# Layer 3\n",
    "model.add(LSTM(units=number_units))\n",
    "model.add(Dropout(dropout_fraction))\n",
    "\n",
    "# Output layer\n",
    "model.add(Dense(1))"
   ]
  },
  {
   "cell_type": "code",
   "execution_count": 53,
   "metadata": {},
   "outputs": [],
   "source": [
    "# Compile the model\n",
    "model.compile(optimizer=\"adam\", loss=\"mean_squared_error\")"
   ]
  },
  {
   "cell_type": "code",
   "execution_count": 54,
   "metadata": {},
   "outputs": [
    {
     "name": "stdout",
     "output_type": "stream",
     "text": [
      "Model: \"sequential_2\"\n",
      "_________________________________________________________________\n",
      "Layer (type)                 Output Shape              Param #   \n",
      "=================================================================\n",
      "lstm_5 (LSTM)                (None, 3, 30)             3840      \n",
      "_________________________________________________________________\n",
      "dropout_5 (Dropout)          (None, 3, 30)             0         \n",
      "_________________________________________________________________\n",
      "lstm_6 (LSTM)                (None, 3, 30)             7320      \n",
      "_________________________________________________________________\n",
      "dropout_6 (Dropout)          (None, 3, 30)             0         \n",
      "_________________________________________________________________\n",
      "lstm_7 (LSTM)                (None, 30)                7320      \n",
      "_________________________________________________________________\n",
      "dropout_7 (Dropout)          (None, 30)                0         \n",
      "_________________________________________________________________\n",
      "dense_2 (Dense)              (None, 1)                 31        \n",
      "=================================================================\n",
      "Total params: 18,511\n",
      "Trainable params: 18,511\n",
      "Non-trainable params: 0\n",
      "_________________________________________________________________\n"
     ]
    }
   ],
   "source": [
    "# Summarize the model\n",
    "model.summary()"
   ]
  },
  {
   "cell_type": "code",
   "execution_count": 55,
   "metadata": {},
   "outputs": [
    {
     "name": "stdout",
     "output_type": "stream",
     "text": [
      "Epoch 1/20\n",
      "33/33 [==============================] - 0s 6ms/step - loss: 0.1879\n",
      "Epoch 2/20\n",
      "33/33 [==============================] - 0s 5ms/step - loss: 0.0263\n",
      "Epoch 3/20\n",
      "33/33 [==============================] - 0s 6ms/step - loss: 0.0201\n",
      "Epoch 4/20\n",
      "33/33 [==============================] - 0s 5ms/step - loss: 0.0228\n",
      "Epoch 5/20\n",
      "33/33 [==============================] - 0s 5ms/step - loss: 0.0248\n",
      "Epoch 6/20\n",
      "33/33 [==============================] - 0s 5ms/step - loss: 0.0234\n",
      "Epoch 7/20\n",
      "33/33 [==============================] - 0s 5ms/step - loss: 0.0228\n",
      "Epoch 8/20\n",
      "33/33 [==============================] - 0s 5ms/step - loss: 0.0242\n",
      "Epoch 9/20\n",
      "33/33 [==============================] - 0s 5ms/step - loss: 0.0223\n",
      "Epoch 10/20\n",
      "33/33 [==============================] - 0s 5ms/step - loss: 0.0222\n",
      "Epoch 11/20\n",
      "33/33 [==============================] - 0s 5ms/step - loss: 0.0251\n",
      "Epoch 12/20\n",
      "33/33 [==============================] - 0s 5ms/step - loss: 0.0223\n",
      "Epoch 13/20\n",
      "33/33 [==============================] - 0s 5ms/step - loss: 0.0210\n",
      "Epoch 14/20\n",
      "33/33 [==============================] - 0s 5ms/step - loss: 0.0209\n",
      "Epoch 15/20\n",
      "33/33 [==============================] - 0s 5ms/step - loss: 0.0220\n",
      "Epoch 16/20\n",
      "33/33 [==============================] - 0s 5ms/step - loss: 0.0243\n",
      "Epoch 17/20\n",
      "33/33 [==============================] - 0s 6ms/step - loss: 0.0220\n",
      "Epoch 18/20\n",
      "33/33 [==============================] - 0s 5ms/step - loss: 0.0211\n",
      "Epoch 19/20\n",
      "33/33 [==============================] - 0s 5ms/step - loss: 0.0242\n",
      "Epoch 20/20\n",
      "33/33 [==============================] - 0s 5ms/step - loss: 0.0199\n"
     ]
    },
    {
     "data": {
      "text/plain": [
       "<tensorflow.python.keras.callbacks.History at 0x7fd808b98d90>"
      ]
     },
     "execution_count": 55,
     "metadata": {},
     "output_type": "execute_result"
    }
   ],
   "source": [
    "# Train the model\n",
    "\n",
    "model.fit(X_train, y_train, epochs=20, shuffle=False, batch_size=4, verbose=1)"
   ]
  },
  {
   "cell_type": "code",
   "execution_count": 56,
   "metadata": {},
   "outputs": [
    {
     "name": "stdout",
     "output_type": "stream",
     "text": [
      "2/2 [==============================] - 0s 1ms/step - loss: 0.0672\n"
     ]
    },
    {
     "data": {
      "text/plain": [
       "0.06724496930837631"
      ]
     },
     "execution_count": 56,
     "metadata": {},
     "output_type": "execute_result"
    }
   ],
   "source": [
    "# Evaluate the model\n",
    "model.evaluate(X_test, y_test, verbose=1)"
   ]
  },
  {
   "cell_type": "code",
   "execution_count": 57,
   "metadata": {},
   "outputs": [],
   "source": [
    "# Make predictions using the testing data X_test\n",
    "predicted = model.predict(X_test)"
   ]
  },
  {
   "cell_type": "code",
   "execution_count": 58,
   "metadata": {},
   "outputs": [],
   "source": [
    "# Recover the original prices instead of the scaled version\n",
    "predicted_prices = y_test_scaler.inverse_transform(predicted)\n",
    "real_prices = y_test_scaler.inverse_transform(y_test.reshape(-1, 1))"
   ]
  },
  {
   "cell_type": "code",
   "execution_count": 59,
   "metadata": {},
   "outputs": [
    {
     "name": "stdout",
     "output_type": "stream",
     "text": [
      ">expected=1.4, predicted=2.2\n",
      "Test RMSE: 0.771\n",
      ">expected=7.4, predicted=2.2\n",
      "Test RMSE: 5.275\n",
      ">expected=-1.0, predicted=2.3\n",
      "Test RMSE: 3.280\n",
      ">expected=6.4, predicted=2.6\n",
      "Test RMSE: 3.821\n",
      ">expected=-4.0, predicted=2.8\n",
      "Test RMSE: 6.727\n",
      ">expected=-1.0, predicted=2.3\n",
      "Test RMSE: 3.370\n",
      ">expected=-1.9, predicted=2.5\n",
      "Test RMSE: 4.369\n",
      ">expected=-3.2, predicted=1.9\n",
      "Test RMSE: 5.051\n",
      ">expected=1.1, predicted=2.0\n",
      "Test RMSE: 0.889\n",
      ">expected=1.4, predicted=2.0\n",
      "Test RMSE: 0.583\n",
      ">expected=-0.5, predicted=2.1\n",
      "Test RMSE: 2.516\n",
      ">expected=0.6, predicted=2.3\n",
      "Test RMSE: 1.774\n",
      ">expected=2.2, predicted=2.3\n",
      "Test RMSE: 0.098\n",
      ">expected=-3.6, predicted=2.2\n",
      "Test RMSE: 5.880\n",
      ">expected=1.9, predicted=2.3\n",
      "Test RMSE: 0.425\n",
      ">expected=-1.3, predicted=2.3\n",
      "Test RMSE: 3.560\n",
      ">expected=-0.2, predicted=2.0\n",
      "Test RMSE: 2.246\n",
      ">expected=0.5, predicted=2.3\n",
      "Test RMSE: 1.830\n",
      ">expected=-1.4, predicted=2.1\n",
      "Test RMSE: 3.547\n",
      ">expected=-0.1, predicted=2.2\n",
      "Test RMSE: 2.254\n",
      ">expected=-0.4, predicted=2.2\n",
      "Test RMSE: 2.557\n",
      ">expected=2.8, predicted=2.1\n",
      "Test RMSE: 0.716\n",
      ">expected=-0.9, predicted=2.2\n",
      "Test RMSE: 3.108\n",
      ">expected=-1.1, predicted=2.3\n",
      "Test RMSE: 3.378\n",
      ">expected=2.3, predicted=2.4\n",
      "Test RMSE: 0.064\n",
      ">expected=-0.2, predicted=2.1\n",
      "Test RMSE: 2.376\n",
      ">expected=-0.2, predicted=2.2\n",
      "Test RMSE: 2.401\n",
      ">expected=0.5, predicted=2.4\n",
      "Test RMSE: 1.903\n",
      ">expected=-1.4, predicted=2.2\n",
      "Test RMSE: 3.581\n",
      ">expected=1.9, predicted=2.2\n",
      "Test RMSE: 0.319\n",
      ">expected=0.4, predicted=2.2\n",
      "Test RMSE: 1.782\n",
      ">expected=-0.0, predicted=2.2\n",
      "Test RMSE: 2.214\n",
      ">expected=-1.6, predicted=2.4\n",
      "Test RMSE: 3.925\n",
      ">expected=-0.7, predicted=2.2\n",
      "Test RMSE: 2.975\n",
      ">expected=0.6, predicted=2.1\n",
      "Test RMSE: 1.591\n",
      ">expected=-1.1, predicted=2.1\n",
      "Test RMSE: 3.195\n",
      ">expected=0.9, predicted=2.2\n",
      "Test RMSE: 1.232\n",
      ">expected=-3.1, predicted=2.2\n",
      "Test RMSE: 5.340\n",
      ">expected=-1.1, predicted=2.1\n",
      "Test RMSE: 3.204\n",
      ">expected=2.1, predicted=2.2\n",
      "Test RMSE: 0.042\n",
      ">expected=-2.0, predicted=2.0\n",
      "Test RMSE: 3.943\n",
      ">expected=-1.1, predicted=2.2\n",
      "Test RMSE: 3.258\n",
      ">expected=1.2, predicted=2.3\n",
      "Test RMSE: 1.032\n",
      ">expected=0.5, predicted=2.1\n",
      "Test RMSE: 1.517\n",
      ">expected=2.3, predicted=2.2\n",
      "Test RMSE: 0.136\n",
      ">expected=-0.3, predicted=2.4\n",
      "Test RMSE: 2.625\n",
      ">expected=1.5, predicted=2.3\n",
      "Test RMSE: 0.868\n",
      ">expected=0.9, predicted=2.4\n",
      "Test RMSE: 1.476\n",
      ">expected=-1.0, predicted=2.3\n",
      "Test RMSE: 3.222\n",
      ">expected=-0.8, predicted=2.3\n",
      "Test RMSE: 3.181\n",
      ">expected=0.4, predicted=2.2\n",
      "Test RMSE: 1.837\n",
      ">expected=-2.7, predicted=2.1\n",
      "Test RMSE: 4.801\n",
      ">expected=2.5, predicted=2.1\n",
      "Test RMSE: 0.336\n",
      ">expected=-1.4, predicted=2.2\n",
      "Test RMSE: 3.546\n",
      ">expected=0.7, predicted=2.1\n",
      "Test RMSE: 1.446\n",
      ">expected=-0.6, predicted=2.3\n",
      "Test RMSE: 2.908\n"
     ]
    }
   ],
   "source": [
    "for pred_y, test_y in zip(predicted_prices, real_prices):\n",
    "        print('>expected=%.1f, predicted=%.1f' % (test_y, pred_y))\n",
    "        rmse = sqrt(mean_squared_error(test_y, pred_y))\n",
    "        print('Test RMSE: %.3f' % rmse)"
   ]
  },
  {
   "cell_type": "code",
   "execution_count": 60,
   "metadata": {},
   "outputs": [
    {
     "data": {
      "text/html": [
       "<div>\n",
       "<style scoped>\n",
       "    .dataframe tbody tr th:only-of-type {\n",
       "        vertical-align: middle;\n",
       "    }\n",
       "\n",
       "    .dataframe tbody tr th {\n",
       "        vertical-align: top;\n",
       "    }\n",
       "\n",
       "    .dataframe thead th {\n",
       "        text-align: right;\n",
       "    }\n",
       "</style>\n",
       "<table border=\"1\" class=\"dataframe\">\n",
       "  <thead>\n",
       "    <tr style=\"text-align: right;\">\n",
       "      <th></th>\n",
       "      <th>Real</th>\n",
       "      <th>Predicted</th>\n",
       "    </tr>\n",
       "    <tr>\n",
       "      <th>Date</th>\n",
       "      <th></th>\n",
       "      <th></th>\n",
       "    </tr>\n",
       "  </thead>\n",
       "  <tbody>\n",
       "    <tr>\n",
       "      <th>2020-07-15</th>\n",
       "      <td>1.389925</td>\n",
       "      <td>2.161399</td>\n",
       "    </tr>\n",
       "    <tr>\n",
       "      <th>2020-07-16</th>\n",
       "      <td>7.447202</td>\n",
       "      <td>2.172353</td>\n",
       "    </tr>\n",
       "    <tr>\n",
       "      <th>2020-07-17</th>\n",
       "      <td>-0.982758</td>\n",
       "      <td>2.297556</td>\n",
       "    </tr>\n",
       "    <tr>\n",
       "      <th>2020-07-20</th>\n",
       "      <td>6.390386</td>\n",
       "      <td>2.569482</td>\n",
       "    </tr>\n",
       "    <tr>\n",
       "      <th>2020-07-21</th>\n",
       "      <td>-3.960713</td>\n",
       "      <td>2.766775</td>\n",
       "    </tr>\n",
       "  </tbody>\n",
       "</table>\n",
       "</div>"
      ],
      "text/plain": [
       "                Real  Predicted\n",
       "Date                           \n",
       "2020-07-15  1.389925   2.161399\n",
       "2020-07-16  7.447202   2.172353\n",
       "2020-07-17 -0.982758   2.297556\n",
       "2020-07-20  6.390386   2.569482\n",
       "2020-07-21 -3.960713   2.766775"
      ]
     },
     "execution_count": 60,
     "metadata": {},
     "output_type": "execute_result"
    }
   ],
   "source": [
    "# Create a DataFrame of Real and Predicted values\n",
    "stocks = pd.DataFrame({\n",
    "    \"Real\": real_prices.ravel(),\n",
    "    \"Predicted\": predicted_prices.ravel()\n",
    "}, index = azn_df.index[-len(real_prices): ]) \n",
    "stocks.head()"
   ]
  },
  {
   "cell_type": "code",
   "execution_count": 62,
   "metadata": {},
   "outputs": [
    {
     "data": {
      "image/png": "[encoded data removed]",
      "text/plain": [
       "<Figure size 432x288 with 1 Axes>"
      ]
     },
     "metadata": {
      "needs_background": "light"
     },
     "output_type": "display_data"
    }
   ],
   "source": [
    "# Plot the real vs predicted values as a line chart\n",
    "# WINDOW 3, epochs 20, batch 3\n",
    "stocks.plot(title=\"LSTM performance on AZN stock returns\")\n",
    "plt.savefig('../../Images/LSTMmodel_AZN_stock_returns.png')\n"
   ]
  },
  {
   "cell_type": "code",
   "execution_count": null,
   "metadata": {},
   "outputs": [],
   "source": []
  }
 ],
 "metadata": {
  "kernelspec": {
   "display_name": "Python [conda env:dev] *",
   "language": "python",
   "name": "conda-env-dev-py"
  },
  "language_info": {
   "codemirror_mode": {
    "name": "ipython",
    "version": 3
   },
   "file_extension": ".py",
   "mimetype": "text/x-python",
   "name": "python",
   "nbconvert_exporter": "python",
   "pygments_lexer": "ipython3",
   "version": "3.7.7"
  }
 },
 "nbformat": 4,
 "nbformat_minor": 4
}
