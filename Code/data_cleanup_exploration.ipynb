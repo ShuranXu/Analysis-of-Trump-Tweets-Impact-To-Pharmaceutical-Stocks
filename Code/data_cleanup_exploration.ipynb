{
 "cells": [
  {
   "cell_type": "code",
   "execution_count": 7,
   "metadata": {},
   "outputs": [],
   "source": [
    "# Project 2      \n",
    "#importing libraries \n",
    "import pandas as pd\n",
    "import numpy as np\n",
    "import seaborn as sns \n",
    "import datetime as dt\n",
    "import plotly.express as px\n",
    "import os\n",
    "import matplotlib.pyplot as plt\n",
    "from pathlib import Path\n",
    "%matplotlib inline\n",
    "import hvplot.pandas\n",
    "from pandas_datareader import data as wb"
   ]
  },
  {
   "cell_type": "code",
   "execution_count": 8,
   "metadata": {},
   "outputs": [
    {
     "name": "stdout",
     "output_type": "stream",
     "text": [
      "Current Working Directory: C:\\Users\\Anirban\\Desktop\\Python Code folder\\16-Project-2\\UofT-Fintech-Group-1\\Code\n"
     ]
    }
   ],
   "source": [
    "print(f\"Current Working Directory: {Path.cwd()}\")"
   ]
  },
  {
   "cell_type": "code",
   "execution_count": 9,
   "metadata": {},
   "outputs": [
    {
     "data": {
      "text/html": [
       "<div>\n",
       "<style scoped>\n",
       "    .dataframe tbody tr th:only-of-type {\n",
       "        vertical-align: middle;\n",
       "    }\n",
       "\n",
       "    .dataframe tbody tr th {\n",
       "        vertical-align: top;\n",
       "    }\n",
       "\n",
       "    .dataframe thead tr th {\n",
       "        text-align: left;\n",
       "    }\n",
       "\n",
       "    .dataframe thead tr:last-of-type th {\n",
       "        text-align: right;\n",
       "    }\n",
       "</style>\n",
       "<table border=\"1\" class=\"dataframe\">\n",
       "  <thead>\n",
       "    <tr>\n",
       "      <th>Attributes</th>\n",
       "      <th colspan=\"3\" halign=\"left\">Volume</th>\n",
       "      <th colspan=\"3\" halign=\"left\">Adj Close</th>\n",
       "    </tr>\n",
       "    <tr>\n",
       "      <th>Symbols</th>\n",
       "      <th>GSK</th>\n",
       "      <th>PFE</th>\n",
       "      <th>AZN</th>\n",
       "      <th>GSK</th>\n",
       "      <th>PFE</th>\n",
       "      <th>AZN</th>\n",
       "    </tr>\n",
       "    <tr>\n",
       "      <th>Date</th>\n",
       "      <th></th>\n",
       "      <th></th>\n",
       "      <th></th>\n",
       "      <th></th>\n",
       "      <th></th>\n",
       "      <th></th>\n",
       "    </tr>\n",
       "  </thead>\n",
       "  <tbody>\n",
       "    <tr>\n",
       "      <th>2020-09-21</th>\n",
       "      <td>4420800.0</td>\n",
       "      <td>25245700.0</td>\n",
       "      <td>6792700.0</td>\n",
       "      <td>38.209999</td>\n",
       "      <td>36.020000</td>\n",
       "      <td>55.910000</td>\n",
       "    </tr>\n",
       "    <tr>\n",
       "      <th>2020-09-22</th>\n",
       "      <td>3299300.0</td>\n",
       "      <td>21562900.0</td>\n",
       "      <td>3878600.0</td>\n",
       "      <td>38.000000</td>\n",
       "      <td>36.250000</td>\n",
       "      <td>55.439999</td>\n",
       "    </tr>\n",
       "    <tr>\n",
       "      <th>2020-09-23</th>\n",
       "      <td>3331700.0</td>\n",
       "      <td>21918900.0</td>\n",
       "      <td>2922900.0</td>\n",
       "      <td>37.790001</td>\n",
       "      <td>36.000000</td>\n",
       "      <td>55.660000</td>\n",
       "    </tr>\n",
       "    <tr>\n",
       "      <th>2020-09-24</th>\n",
       "      <td>3502900.0</td>\n",
       "      <td>19784000.0</td>\n",
       "      <td>4121000.0</td>\n",
       "      <td>37.380001</td>\n",
       "      <td>35.759998</td>\n",
       "      <td>54.169998</td>\n",
       "    </tr>\n",
       "    <tr>\n",
       "      <th>2020-09-25</th>\n",
       "      <td>3263277.0</td>\n",
       "      <td>12845937.0</td>\n",
       "      <td>4547860.0</td>\n",
       "      <td>37.799999</td>\n",
       "      <td>36.049999</td>\n",
       "      <td>55.509998</td>\n",
       "    </tr>\n",
       "  </tbody>\n",
       "</table>\n",
       "</div>"
      ],
      "text/plain": [
       "Attributes     Volume                         Adj Close                      \n",
       "Symbols           GSK         PFE        AZN        GSK        PFE        AZN\n",
       "Date                                                                         \n",
       "2020-09-21  4420800.0  25245700.0  6792700.0  38.209999  36.020000  55.910000\n",
       "2020-09-22  3299300.0  21562900.0  3878600.0  38.000000  36.250000  55.439999\n",
       "2020-09-23  3331700.0  21918900.0  2922900.0  37.790001  36.000000  55.660000\n",
       "2020-09-24  3502900.0  19784000.0  4121000.0  37.380001  35.759998  54.169998\n",
       "2020-09-25  3263277.0  12845937.0  4547860.0  37.799999  36.049999  55.509998"
      ]
     },
     "execution_count": 9,
     "metadata": {},
     "output_type": "execute_result"
    }
   ],
   "source": [
    "pd.core.common.is_list_like = pd.api.types.is_list_like\n",
    "stocks = ['GSK', 'PFE', 'AZN']\n",
    "start = dt.datetime(2018,1,1)\n",
    "end = dt.datetime.today()    \n",
    "df = wb.DataReader(stocks, 'yahoo',start,end)\n",
    "df = df[[\"Volume\",\"Adj Close\"]]\n",
    "# print(df.head())\n",
    "# # Save the stock data a csv file\n",
    "df.to_csv(\"df.csv\")\n",
    "# df.dtypes\n",
    "df.tail()"
   ]
  },
  {
   "cell_type": "code",
   "execution_count": null,
   "metadata": {},
   "outputs": [],
   "source": [
    "# def get_simulation(ticker, name):\n",
    "#     name = pd.DataFrame()\n",
    "#     name[ticker] = wb.DataReader(ticker, data_source='yahoo', start='2018-1-1', end='2020-9-24')['Volume']['Adj Close']\n",
    "#     return name\n",
    "# GSK = get_simulation(\"GSK\", \"GSK\")\n",
    "# PFE = get_simulation(\"PFE\", \"PFE\")\n",
    "# AZN = get_simulation(\"AZN\", \"AZN\")\n",
    "\n",
    "# # Save the stock data a csv file\n",
    "# GSK.to_csv(\"Data/GSK.csv\")\n",
    "# PFE.to_csv(\"Data/PFE.csv\")\n",
    "# AZN.to_csv(\"Data/AZN.csv\")\n",
    "\n",
    "# ##### YAHOOFINANCE API ticker information is not NOT available for TSX 60, FTSEMIB and UKX - for which googlefinance was \n",
    "# ##### used to manually extract the ticker details and save into csv file"
   ]
  },
  {
   "cell_type": "code",
   "execution_count": 43,
   "metadata": {},
   "outputs": [],
   "source": [
    "# ############################# Data Importing #################\n",
    "# # Import different stock market indexes full dataset from 1 Jan 2018 to 24 Sep 2020       \n",
    "# GSK_df = pd.read_csv(Path(\"Data/GSK.csv\"),index_col=\"Date\", parse_dates=True, infer_datetime_format=True)\n",
    "# PFE_df = pd.read_csv(Path(\"Data/PFE.csv\"),index_col=\"Date\", parse_dates=True, infer_datetime_format=True)\n",
    "# AZN_df = pd.read_csv(Path(\"Data/AZN.csv\"),index_col=\"Date\", parse_dates=True, infer_datetime_format=True)\n",
    "# GSK_df.head()"
   ]
  },
  {
   "cell_type": "code",
   "execution_count": 44,
   "metadata": {},
   "outputs": [],
   "source": [
    "# ############################# Data Sorting#################\n",
    "# GSK_df = GSK_df.sort_values(\"Date\")\n",
    "# PFE_df = PFE_df.sort_values(\"Date\")\n",
    "# AZN_df = AZN_df.sort_values(\"Date\")\n",
    "# AZN_df.head()"
   ]
  },
  {
   "cell_type": "code",
   "execution_count": 42,
   "metadata": {},
   "outputs": [],
   "source": [
    "# ############################# Combining all the market indices for analysis #################\n",
    "# combined_portfolios_df = pd.concat(\n",
    "#      [GSK_df , PFE_df, AZN_df], axis=\"columns\", join=\"inner\"\n",
    "#  )\n",
    "# combined_portfolios_df\n",
    "# combined_portfolios_df.head(10)"
   ]
  },
  {
   "cell_type": "code",
   "execution_count": null,
   "metadata": {},
   "outputs": [],
   "source": [
    "# Check Data Types in DataFrame\n",
    "df.dtypes"
   ]
  },
  {
   "cell_type": "code",
   "execution_count": null,
   "metadata": {},
   "outputs": [],
   "source": [
    "# Checking the count of each column in the dataframe\n",
    "df.count()"
   ]
  },
  {
   "cell_type": "code",
   "execution_count": null,
   "metadata": {},
   "outputs": [],
   "source": [
    "# Checking for Nulls\n",
    "df.isnull().sum()"
   ]
  }
 ],
 "metadata": {
  "kernelspec": {
   "display_name": "Python 3.7.6 64-bit ('base': conda)",
   "language": "python",
   "name": "python37664bitbaseconda25421fca980e4e2d863b8c020a87bca2"
  },
  "language_info": {
   "codemirror_mode": {
    "name": "ipython",
    "version": 3
   },
   "file_extension": ".py",
   "mimetype": "text/x-python",
   "name": "python",
   "nbconvert_exporter": "python",
   "pygments_lexer": "ipython3",
   "version": "3.7.6"
  }
 },
 "nbformat": 4,
 "nbformat_minor": 4
}
